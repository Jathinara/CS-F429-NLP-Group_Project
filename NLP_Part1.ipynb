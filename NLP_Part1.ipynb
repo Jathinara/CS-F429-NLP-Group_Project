{
  "nbformat": 4,
  "nbformat_minor": 0,
  "metadata": {
    "accelerator": "GPU",
    "colab": {
      "name": "nlp2fin.ipynb",
      "provenance": [],
      "collapsed_sections": []
    },
    "kernelspec": {
      "display_name": "Python 3",
      "name": "python3"
    },
    "language_info": {
      "name": "python"
    }
  },
  "cells": [
    {
      "cell_type": "code",
      "metadata": {
        "colab": {
          "base_uri": "https://localhost:8080/"
        },
        "id": "FN9twqe94zpa",
        "outputId": "58029634-aff3-4d5b-f60f-d9a83b8035c4"
      },
      "source": [
        "!pip install pyLDAvis\n",
        "import nltk\n",
        "nltk.download('stopwords')"
      ],
      "execution_count": null,
      "outputs": [
        {
          "name": "stdout",
          "output_type": "stream",
          "text": [
            "Requirement already satisfied: pyLDAvis in /usr/local/lib/python3.7/dist-packages (3.3.1)\n",
            "Requirement already satisfied: gensim in /usr/local/lib/python3.7/dist-packages (from pyLDAvis) (3.6.0)\n",
            "Requirement already satisfied: pandas>=1.2.0 in /usr/local/lib/python3.7/dist-packages (from pyLDAvis) (1.3.4)\n",
            "Requirement already satisfied: sklearn in /usr/local/lib/python3.7/dist-packages (from pyLDAvis) (0.0)\n",
            "Requirement already satisfied: joblib in /usr/local/lib/python3.7/dist-packages (from pyLDAvis) (1.1.0)\n",
            "Requirement already satisfied: future in /usr/local/lib/python3.7/dist-packages (from pyLDAvis) (0.16.0)\n",
            "Requirement already satisfied: setuptools in /usr/local/lib/python3.7/dist-packages (from pyLDAvis) (57.4.0)\n",
            "Requirement already satisfied: scipy in /usr/local/lib/python3.7/dist-packages (from pyLDAvis) (1.4.1)\n",
            "Requirement already satisfied: funcy in /usr/local/lib/python3.7/dist-packages (from pyLDAvis) (1.16)\n",
            "Requirement already satisfied: scikit-learn in /usr/local/lib/python3.7/dist-packages (from pyLDAvis) (1.0.1)\n",
            "Requirement already satisfied: jinja2 in /usr/local/lib/python3.7/dist-packages (from pyLDAvis) (2.11.3)\n",
            "Requirement already satisfied: numpy>=1.20.0 in /usr/local/lib/python3.7/dist-packages (from pyLDAvis) (1.21.4)\n",
            "Requirement already satisfied: numexpr in /usr/local/lib/python3.7/dist-packages (from pyLDAvis) (2.7.3)\n",
            "Requirement already satisfied: python-dateutil>=2.7.3 in /usr/local/lib/python3.7/dist-packages (from pandas>=1.2.0->pyLDAvis) (2.8.2)\n",
            "Requirement already satisfied: pytz>=2017.3 in /usr/local/lib/python3.7/dist-packages (from pandas>=1.2.0->pyLDAvis) (2018.9)\n",
            "Requirement already satisfied: six>=1.5 in /usr/local/lib/python3.7/dist-packages (from python-dateutil>=2.7.3->pandas>=1.2.0->pyLDAvis) (1.15.0)\n",
            "Requirement already satisfied: smart-open>=1.2.1 in /usr/local/lib/python3.7/dist-packages (from gensim->pyLDAvis) (5.2.1)\n",
            "Requirement already satisfied: MarkupSafe>=0.23 in /usr/local/lib/python3.7/dist-packages (from jinja2->pyLDAvis) (2.0.1)\n",
            "Requirement already satisfied: threadpoolctl>=2.0.0 in /usr/local/lib/python3.7/dist-packages (from scikit-learn->pyLDAvis) (3.0.0)\n",
            "[nltk_data] Downloading package stopwords to /root/nltk_data...\n",
            "[nltk_data]   Package stopwords is already up-to-date!\n"
          ]
        },
        {
          "data": {
            "text/plain": [
              "True"
            ]
          },
          "execution_count": 1,
          "metadata": {},
          "output_type": "execute_result"
        }
      ]
    },
    {
      "cell_type": "code",
      "metadata": {
        "colab": {
          "base_uri": "https://localhost:8080/"
        },
        "id": "12eJsstF5aBj",
        "outputId": "141d734e-881c-4f10-91cb-525ed6f382f2"
      },
      "source": [
        "import re\n",
        "import numpy as np\n",
        "import pandas as pd\n",
        "import matplotlib.pyplot as plt\n",
        "import json\n",
        "import gensim\n",
        "import gensim.corpora as corpora\n",
        "from gensim.utils import simple_preprocess\n",
        "from gensim.models import TfidfModel\n",
        "from gensim.models import CoherenceModel\n",
        "from gensim.parsing.porter import PorterStemmer\n",
        "import pyLDAvis\n",
        "import pyLDAvis.gensim_models\n",
        "from nltk.corpus import stopwords\n",
        "stop_words = stopwords.words('english')\n",
        "import string\n",
        "from pprint import pprint\n",
        "import spacy\n",
        "import warnings\n",
        "warnings.filterwarnings(\"ignore\",category=DeprecationWarning)"
      ],
      "execution_count": null,
      "outputs": [
        {
          "name": "stderr",
          "output_type": "stream",
          "text": [
            "/usr/local/lib/python3.7/dist-packages/past/types/oldstr.py:5: DeprecationWarning: Using or importing the ABCs from 'collections' instead of from 'collections.abc' is deprecated since Python 3.3,and in 3.9 it will stop working\n",
            "  from collections import Iterable\n",
            "/usr/local/lib/python3.7/dist-packages/jsonschema/compat.py:6: DeprecationWarning: Using or importing the ABCs from 'collections' instead of from 'collections.abc' is deprecated since Python 3.3,and in 3.9 it will stop working\n",
            "  from collections import MutableMapping, Sequence  # noqa\n",
            "/usr/local/lib/python3.7/dist-packages/jsonschema/compat.py:6: DeprecationWarning: Using or importing the ABCs from 'collections' instead of from 'collections.abc' is deprecated since Python 3.3,and in 3.9 it will stop working\n",
            "  from collections import MutableMapping, Sequence  # noqa\n"
          ]
        }
      ]
    },
    {
      "cell_type": "markdown",
      "metadata": {
        "id": "YjitBmwXwuPa"
      },
      "source": [
        "Importing the datafile using pandas"
      ]
    },
    {
      "cell_type": "code",
      "metadata": {
        "id": "NNWLDSc-5eZI"
      },
      "source": [
        "dataset = pd.read_json('/content/assignment_dump.json', orient='columns')"
      ],
      "execution_count": null,
      "outputs": []
    },
    {
      "cell_type": "code",
      "metadata": {
        "id": "HlQUJGke5rRA",
        "outputId": "e2e86485-72de-42ff-cd24-ddc013d38436",
        "colab": {
          "base_uri": "https://localhost:8080/",
          "height": 710
        }
      },
      "source": [
        "dataset.head(10)"
      ],
      "execution_count": null,
      "outputs": [
        {
          "output_type": "execute_result",
          "data": {
            "text/html": [
              "<div>\n",
              "<style scoped>\n",
              "    .dataframe tbody tr th:only-of-type {\n",
              "        vertical-align: middle;\n",
              "    }\n",
              "\n",
              "    .dataframe tbody tr th {\n",
              "        vertical-align: top;\n",
              "    }\n",
              "\n",
              "    .dataframe thead th {\n",
              "        text-align: right;\n",
              "    }\n",
              "</style>\n",
              "<table border=\"1\" class=\"dataframe\">\n",
              "  <thead>\n",
              "    <tr style=\"text-align: right;\">\n",
              "      <th></th>\n",
              "      <th>abstract</th>\n",
              "      <th>authors</th>\n",
              "      <th>n_citation</th>\n",
              "      <th>references</th>\n",
              "      <th>title</th>\n",
              "      <th>venue</th>\n",
              "      <th>year</th>\n",
              "      <th>id</th>\n",
              "    </tr>\n",
              "  </thead>\n",
              "  <tbody>\n",
              "    <tr>\n",
              "      <th>0</th>\n",
              "      <td>This paper describes the design and implementa...</td>\n",
              "      <td>[Gareth Beale, Graeme Earl]</td>\n",
              "      <td>50</td>\n",
              "      <td>[10482dd3-4642-4193-842f-85f3b70fcf65, 3133714...</td>\n",
              "      <td>A methodology for the physically accurate visu...</td>\n",
              "      <td>visual analytics science and technology</td>\n",
              "      <td>2011</td>\n",
              "      <td>001c58d3-26ad-46b3-ab3a-c1e557d16821</td>\n",
              "    </tr>\n",
              "    <tr>\n",
              "      <th>1</th>\n",
              "      <td>This article applied GARCH model instead AR or...</td>\n",
              "      <td>[Altaf Hossain, Faisal Zaman, Mohammed Nasser,...</td>\n",
              "      <td>50</td>\n",
              "      <td>[2d84c0f2-e656-4ce7-b018-90eda1c132fe, a083a1b...</td>\n",
              "      <td>Comparison of GARCH, Neural Network and Suppor...</td>\n",
              "      <td>pattern recognition and machine intelligence</td>\n",
              "      <td>2009</td>\n",
              "      <td>001c8744-73c4-4b04-9364-22d31a10dbf1</td>\n",
              "    </tr>\n",
              "    <tr>\n",
              "      <th>2</th>\n",
              "      <td>Recently, Bridges and Reich introduced the con...</td>\n",
              "      <td>[Alvaro L. Islas, Constance M. Schober]</td>\n",
              "      <td>50</td>\n",
              "      <td>[]</td>\n",
              "      <td>Multisymplectic Spectral Methods for the Gross...</td>\n",
              "      <td>international conference on conceptual structures</td>\n",
              "      <td>2002</td>\n",
              "      <td>00bcf2d5-1592-46b0-81fd-933f90b5ecca</td>\n",
              "    </tr>\n",
              "    <tr>\n",
              "      <th>3</th>\n",
              "      <td>Most applications of the abstract interpretati...</td>\n",
              "      <td>[Patrick Cousot, Radhia Cousot]</td>\n",
              "      <td>50</td>\n",
              "      <td>[6e8a3ec3-9a99-4fac-ac4d-f8d1bf0fa208, 7bb71af...</td>\n",
              "      <td>Relational Abstract Interpretation of Higher O...</td>\n",
              "      <td></td>\n",
              "      <td>1991</td>\n",
              "      <td>00c85316-bddf-4bcb-93f5-097adadd73c2</td>\n",
              "    </tr>\n",
              "    <tr>\n",
              "      <th>4</th>\n",
              "      <td>This paper focuses on knowledge engineering fo...</td>\n",
              "      <td>[Efthymios Alepis, Maria Virvou, Katerina Kaba...</td>\n",
              "      <td>50</td>\n",
              "      <td>[522bea13-bd45-4918-9478-e87ae2f039f7, 60507d4...</td>\n",
              "      <td>Knowledge Engineering for Affective Bi-Modal I...</td>\n",
              "      <td>joint conference on knowledge-based software e...</td>\n",
              "      <td>2008</td>\n",
              "      <td>00dd5ece-1339-4cb6-a08e-43742ae2dac6</td>\n",
              "    </tr>\n",
              "    <tr>\n",
              "      <th>5</th>\n",
              "      <td></td>\n",
              "      <td>[Abdullah Alsubaie, Antonio Di Pietro, Jose R....</td>\n",
              "      <td>6</td>\n",
              "      <td>[0293844d-7244-4562-a6ca-d84bcd9c10a5, 14cd3cf...</td>\n",
              "      <td>A Platform for Disaster Response Planning with...</td>\n",
              "      <td></td>\n",
              "      <td>2013</td>\n",
              "      <td>00e3940b-201b-40ba-bd20-dbdaf26ad324</td>\n",
              "    </tr>\n",
              "    <tr>\n",
              "      <th>6</th>\n",
              "      <td>Xax is a browser plugin model that enables dev...</td>\n",
              "      <td>[John R. Douceur, Jeremy Elson, Jon Howell, Ja...</td>\n",
              "      <td>50</td>\n",
              "      <td>[0abc9de7-e047-44fc-998d-4bf02b9bc9ab, 2c9ebc3...</td>\n",
              "      <td>Leveraging legacy code to deploy desktop appli...</td>\n",
              "      <td>operating systems design and implementation</td>\n",
              "      <td>2008</td>\n",
              "      <td>010d4ce9-0279-4166-ae73-14551ded6404</td>\n",
              "    </tr>\n",
              "    <tr>\n",
              "      <th>7</th>\n",
              "      <td>In recent years, most of mobile phones have a ...</td>\n",
              "      <td>[Hiroshi Furukawa, Yutaka Nakamura]</td>\n",
              "      <td>7</td>\n",
              "      <td>[b2f0e0d3-0071-4076-921e-f93f30160c1c, f030524...</td>\n",
              "      <td>A pedestrian navigation method for user's safe...</td>\n",
              "      <td>international conference on human computer int...</td>\n",
              "      <td>2013</td>\n",
              "      <td>010d9907-45ef-459a-a293-8e1f41cef2b7</td>\n",
              "    </tr>\n",
              "    <tr>\n",
              "      <th>8</th>\n",
              "      <td>Previous language modeling approaches to infor...</td>\n",
              "      <td>[Carmen Fernández-Daza Álvarez, Philippe Langl...</td>\n",
              "      <td>50</td>\n",
              "      <td>[00515e82-3da6-497a-83d3-459e93247123, 0cd820e...</td>\n",
              "      <td>Word pairs in language modeling for informatio...</td>\n",
              "      <td></td>\n",
              "      <td>2004</td>\n",
              "      <td>012b88ae-a763-45d6-8f19-2ec9ff739d5f</td>\n",
              "    </tr>\n",
              "    <tr>\n",
              "      <th>9</th>\n",
              "      <td></td>\n",
              "      <td>[Prudence W. H. Wong, Fencol C. C. Yung, Mihai...</td>\n",
              "      <td>6</td>\n",
              "      <td>[08784bb3-09b9-4bd2-a191-2606f3b3a8b8, 16bf10e...</td>\n",
              "      <td>An 8/3 Lower Bound for Online Dynamic Bin Packing</td>\n",
              "      <td>international symposium on algorithms and comp...</td>\n",
              "      <td>2012</td>\n",
              "      <td>01546472-0ac9-47fa-acca-ffcb7fc99097</td>\n",
              "    </tr>\n",
              "  </tbody>\n",
              "</table>\n",
              "</div>"
            ],
            "text/plain": [
              "                                            abstract  ...                                    id\n",
              "0  This paper describes the design and implementa...  ...  001c58d3-26ad-46b3-ab3a-c1e557d16821\n",
              "1  This article applied GARCH model instead AR or...  ...  001c8744-73c4-4b04-9364-22d31a10dbf1\n",
              "2  Recently, Bridges and Reich introduced the con...  ...  00bcf2d5-1592-46b0-81fd-933f90b5ecca\n",
              "3  Most applications of the abstract interpretati...  ...  00c85316-bddf-4bcb-93f5-097adadd73c2\n",
              "4  This paper focuses on knowledge engineering fo...  ...  00dd5ece-1339-4cb6-a08e-43742ae2dac6\n",
              "5                                                     ...  00e3940b-201b-40ba-bd20-dbdaf26ad324\n",
              "6  Xax is a browser plugin model that enables dev...  ...  010d4ce9-0279-4166-ae73-14551ded6404\n",
              "7  In recent years, most of mobile phones have a ...  ...  010d9907-45ef-459a-a293-8e1f41cef2b7\n",
              "8  Previous language modeling approaches to infor...  ...  012b88ae-a763-45d6-8f19-2ec9ff739d5f\n",
              "9                                                     ...  01546472-0ac9-47fa-acca-ffcb7fc99097\n",
              "\n",
              "[10 rows x 8 columns]"
            ]
          },
          "metadata": {},
          "execution_count": 45
        }
      ]
    },
    {
      "cell_type": "markdown",
      "metadata": {
        "id": "ZKQ080miw_3-"
      },
      "source": [
        "Performing preprocessing steps on our data"
      ]
    },
    {
      "cell_type": "code",
      "metadata": {
        "id": "HWbPnPma6wHA"
      },
      "source": [
        "dataset[\"abstract\"]=dataset[\"abstract\"].fillna(\"\")\n",
        "dataset[\"title\"]=dataset[\"title\"].fillna(\"\")\n",
        "dataset[\"venue\"]=dataset[\"venue\"].fillna(\"\")\n",
        "dst1=dataset[\"abstract\"].tolist()\n",
        "dst2=dataset[\"title\"].tolist()\n",
        "dst3=dataset[\"venue\"].tolist()\n",
        "dst1=[\"{} \".format(ele) for ele in np.squeeze(dst1)]\n",
        "dst2=[\"{} \".format(ele) for ele in np.squeeze(dst2)]\n",
        "dst3=[\"{} \".format(ele) for ele in np.squeeze(dst3)]\n",
        "dst=np.char.add(dst1, dst2)\n",
        "dst=np.char.add(dst, dst3)"
      ],
      "execution_count": null,
      "outputs": []
    },
    {
      "cell_type": "markdown",
      "metadata": {
        "id": "USJxCtsXrre8"
      },
      "source": [
        "Here we have used the information provided to us by abstract, title and venue, and concatenated all 3 to form variable dst, where each row is a single article's abstract, title and venue."
      ]
    },
    {
      "cell_type": "code",
      "metadata": {
        "colab": {
          "base_uri": "https://localhost:8080/"
        },
        "id": "J46r4pUW7G6X",
        "outputId": "cdb7c389-b77d-4ebb-c8cf-d35ba6c2674c"
      },
      "source": [
        "print(dst[0:10])"
      ],
      "execution_count": null,
      "outputs": [
        {
          "name": "stdout",
          "output_type": "stream",
          "text": [
            "[\"This paper describes the design and implementation of a methodology for the visualisation and hypothetical virtual reconstruction of Roman polychrome statuary for research purposes. The methodology is intended as an attempt to move beyond visualisations which are simply believable towards a more physically accurate approach. Accurate representations of polychrome statuary have great potential utility both as a means of illustrating existing interpretations and as a means of testing and revising developing hypotheses. The goal of this methodology is to propose a pipeline which incorporates a high degree of physical accuracy whilst also being practically applicable in a conventional archaeological research setting. The methodology is designed to allow the accurate visualisation of surviving objects and colourants as well as providing reliable methods for the hypothetical reconstruction of elements which no longer survive. The process proposed here is intended to limit the need for specialist recording equipment, utilising existing data and those data which can be collected using widely available technology. It is at present being implemented as part of the 'Statues in Context' project at Herculaneum and will be demonstrated here using the case study of a small area of the head of a painted female statue discovered at Herculaneum in 2006. A methodology for the physically accurate visualisation of roman polychrome statuary visual analytics science and technology \"\n",
            " 'This article applied GARCH model instead AR or ARMA model to compare with the standard BP and SVM in forecasting of the four international including two Asian stock markets indices.These models were evaluated on five performance metrics or criteria. Our experimental results showed the superiority of SVM and GARCH models, compared to the standard BP in forecasting of the four international stock markets indices. Comparison of GARCH, Neural Network and Support Vector Machine in Financial Time Series Prediction pattern recognition and machine intelligence '\n",
            " 'Recently, Bridges and Reich introduced the concept of multisymplectic spectral discretizations for Hamiltonian wave equations with periodic boundary conditions [5]. In this paper, we show that the ID nonlinear Schrodinger equation and the 2D Gross-Pitaevskii equation are multi-symplectic and derive multi-symplectic spectral discretizations of these systems. The effectiveness of the discretizations is numerically tested using initial data for multi-phase solutions. Multisymplectic Spectral Methods for the Gross-Pitaevskii Equation international conference on conceptual structures '\n",
            " 'Most applications of the abstract interpretation framework[2] have been foranalyzing functional programs use functions on abstract values to approxi-mate functions, thus assuming that functions may be called at all arguments.When the abstract domain is ﬁnite, this approach can easily be generalizedto higher order functional languages as shown for example by [1]. In practicethis leads to combinatorial explosion problems as observed, for example, instrictness analysis of higher order functional languages. Relational Abstract Interpretation of Higher Order Functional Programs (extended abstract)  '\n",
            " \"This paper focuses on knowledge engineering for the development of a system that provides affective interaction in mobile devices. The system bases its inferences about users' emotions on user input evidence from the keyboard and the microphone of the mobile device. For this purpose different experimental studies have been conducted with the participation of mobile users and human experts. The experiments' aim was twofold. They aimed at revealing the criteria that are taken into account in each mode for emotion recognition as well as their weight of importance. The results of the studies are further used for the application of a multi-criteria decision making model. Knowledge Engineering for Affective Bi-Modal Interaction in Mobile Devices joint conference on knowledge-based software engineering \"\n",
            " ' A Platform for Disaster Response Planning with Interdependency Simulation Functionality  '\n",
            " 'Xax is a browser plugin model that enables developers to leverage existing tools, libraries, and entire programs to deliver feature-rich applications on the web. Xax employs a novel combination of mechanisms that collectively provide security, OS-independence, performance, and support for legacy code. These mechanisms include memory-isolated native code execution behind a narrow syscall interface, an abstraction layer that provides a consistent binary interface across operating systems, system services via hooks to existing browser mechanisms, and lightweight modifications to existing tool chains and code bases. We demonstrate a variety of applications and libraries from existing code bases, in several languages, produced with various tool chains, running in multiple browsers on multiple operating systems. With roughly two person-weeks of effort, we ported 3.3 million lines of code to Xax, including a PDF viewer, a Python interpreter, a speech synthesizer, and an OpenGL pipeline. Leveraging legacy code to deploy desktop applications on the web operating systems design and implementation '\n",
            " 'In recent years, most of mobile phones have a function of pedestrian navigation guidance. It was reported that users sometimes feel anxiety because of low accuracy of the position estimation especially in urban area and delay of information updating. In order to reduce the anxiety, a route planning algorithm is proposed in this study, which weighs user\\'s difficulty (or easiness) of locating own current position as well as total physical distance of courses. The difficulty is estimated by valuation functions based on the \"recognizability\" and \"visibility\" of landmarks. An experimental study conducted in real situation using a prototype system to examine and refine the model for the optimal route planning. As the result, a modified model is proposed as a promising method of route planning for user\\'s easy wayfinding. A pedestrian navigation method for user\\'s safe and easy wayfinding international conference on human computer interaction '\n",
            " 'Previous language modeling approaches to information retrieval have focused primarily on single terms. The use of bigram models has been studied, but the restriction on word order and adjacency may not be justified for information retrieval. We propose a new language modeling approach to information retrieval that incorporates lexical affinities, or pairs of words that occur near each other, without a constraint on word order. The use of compound terms in the vector space model has been shown to outperform the vector model with only single terms (Nie & Dufort, 2002). We explore the use of compound terms in a language modeling approach, and compare our results with the vector space model, and unigram and bigram language model approaches. Word pairs in language modeling for information retrieval  '\n",
            " ' An 8/3 Lower Bound for Online Dynamic Bin Packing international symposium on algorithms and computation ']\n"
          ]
        }
      ]
    },
    {
      "cell_type": "markdown",
      "metadata": {
        "id": "Tnu9YOUUu6AF"
      },
      "source": [
        "Removing stop words from dst, performing tokenization and naming it dtst."
      ]
    },
    {
      "cell_type": "code",
      "metadata": {
        "id": "nVLZyDmbgafG"
      },
      "source": [
        "dtst=[[word for word in simple_preprocess(str(doc)) if word not in stop_words] for doc in dst]"
      ],
      "execution_count": null,
      "outputs": []
    },
    {
      "cell_type": "markdown",
      "metadata": {
        "id": "moByrn5-vPNQ"
      },
      "source": [
        "Performing lemmatizaion on dtst."
      ]
    },
    {
      "cell_type": "code",
      "metadata": {
        "colab": {
          "base_uri": "https://localhost:8080/"
        },
        "id": "ejrYAGVqge5V",
        "outputId": "0472257a-690a-4532-9c5a-9f1a93419a29"
      },
      "source": [
        "print(dtst[0:5])"
      ],
      "execution_count": null,
      "outputs": [
        {
          "name": "stdout",
          "output_type": "stream",
          "text": [
            "[['paper', 'describes', 'design', 'implementation', 'methodology', 'visualisation', 'hypothetical', 'virtual', 'reconstruction', 'roman', 'polychrome', 'statuary', 'research', 'purposes', 'methodology', 'intended', 'attempt', 'move', 'beyond', 'visualisations', 'simply', 'believable', 'towards', 'physically', 'accurate', 'approach', 'accurate', 'representations', 'polychrome', 'statuary', 'great', 'potential', 'utility', 'means', 'illustrating', 'existing', 'interpretations', 'means', 'testing', 'revising', 'developing', 'hypotheses', 'goal', 'methodology', 'propose', 'pipeline', 'incorporates', 'high', 'degree', 'physical', 'accuracy', 'whilst', 'also', 'practically', 'applicable', 'conventional', 'archaeological', 'research', 'setting', 'methodology', 'designed', 'allow', 'accurate', 'visualisation', 'surviving', 'objects', 'colourants', 'well', 'providing', 'reliable', 'methods', 'hypothetical', 'reconstruction', 'elements', 'longer', 'survive', 'process', 'proposed', 'intended', 'limit', 'need', 'specialist', 'recording', 'equipment', 'utilising', 'existing', 'data', 'data', 'collected', 'using', 'widely', 'available', 'technology', 'present', 'implemented', 'part', 'statues', 'context', 'project', 'herculaneum', 'demonstrated', 'using', 'case', 'study', 'small', 'area', 'head', 'painted', 'female', 'statue', 'discovered', 'herculaneum', 'methodology', 'physically', 'accurate', 'visualisation', 'roman', 'polychrome', 'statuary', 'visual', 'analytics', 'science', 'technology'], ['article', 'applied', 'garch', 'model', 'instead', 'ar', 'arma', 'model', 'compare', 'standard', 'bp', 'svm', 'forecasting', 'four', 'international', 'including', 'two', 'asian', 'stock', 'markets', 'indices', 'models', 'evaluated', 'five', 'performance', 'metrics', 'criteria', 'experimental', 'results', 'showed', 'superiority', 'svm', 'garch', 'models', 'compared', 'standard', 'bp', 'forecasting', 'four', 'international', 'stock', 'markets', 'indices', 'comparison', 'garch', 'neural', 'network', 'support', 'vector', 'machine', 'financial', 'time', 'series', 'prediction', 'pattern', 'recognition', 'machine', 'intelligence'], ['recently', 'bridges', 'reich', 'introduced', 'concept', 'multisymplectic', 'spectral', 'discretizations', 'hamiltonian', 'wave', 'equations', 'periodic', 'boundary', 'conditions', 'paper', 'show', 'id', 'nonlinear', 'schrodinger', 'equation', 'gross', 'pitaevskii', 'equation', 'multi', 'symplectic', 'derive', 'multi', 'symplectic', 'spectral', 'discretizations', 'systems', 'effectiveness', 'discretizations', 'numerically', 'tested', 'using', 'initial', 'data', 'multi', 'phase', 'solutions', 'multisymplectic', 'spectral', 'methods', 'gross', 'pitaevskii', 'equation', 'international', 'conference', 'conceptual', 'structures'], ['applications', 'abstract', 'interpretation', 'framework', 'foranalyzing', 'functional', 'programs', 'use', 'functions', 'abstract', 'values', 'approxi', 'mate', 'functions', 'thus', 'assuming', 'functions', 'may', 'called', 'arguments', 'abstract', 'domain', 'ﬁnite', 'approach', 'easily', 'generalizedto', 'higher', 'order', 'functional', 'languages', 'shown', 'example', 'practicethis', 'leads', 'combinatorial', 'explosion', 'problems', 'observed', 'example', 'instrictness', 'analysis', 'higher', 'order', 'functional', 'languages', 'relational', 'abstract', 'interpretation', 'higher', 'order', 'functional', 'programs', 'extended', 'abstract'], ['paper', 'focuses', 'knowledge', 'engineering', 'development', 'system', 'provides', 'affective', 'interaction', 'mobile', 'devices', 'system', 'bases', 'inferences', 'users', 'emotions', 'user', 'input', 'evidence', 'keyboard', 'microphone', 'mobile', 'device', 'purpose', 'different', 'experimental', 'studies', 'conducted', 'participation', 'mobile', 'users', 'human', 'experts', 'experiments', 'aim', 'twofold', 'aimed', 'revealing', 'criteria', 'taken', 'account', 'mode', 'emotion', 'recognition', 'well', 'weight', 'importance', 'results', 'studies', 'used', 'application', 'multi', 'criteria', 'decision', 'making', 'model', 'knowledge', 'engineering', 'affective', 'bi', 'modal', 'interaction', 'mobile', 'devices', 'joint', 'conference', 'knowledge', 'based', 'software', 'engineering']]\n"
          ]
        }
      ]
    },
    {
      "cell_type": "code",
      "metadata": {
        "id": "cl6BGkiTghUH"
      },
      "source": [
        "def lemmatization(texts, allowed_postags=['NOUN', 'ADJ', 'VERB', 'ADV']):\n",
        "    texts_out = []\n",
        "    for sent in texts:\n",
        "        doc = nlp(\" \".join(sent)) \n",
        "        texts_out.append([token.lemma_ for token in doc if token.pos_ in allowed_postags])\n",
        "    return texts_out"
      ],
      "execution_count": null,
      "outputs": []
    },
    {
      "cell_type": "code",
      "metadata": {
        "id": "eD-KgHErl4ED"
      },
      "source": [
        "nlp = spacy.load('en', disable=['parser', 'ner'])"
      ],
      "execution_count": null,
      "outputs": []
    },
    {
      "cell_type": "code",
      "metadata": {
        "id": "n8PDQrwygkoq"
      },
      "source": [
        "dtst=lemmatization(dtst)"
      ],
      "execution_count": null,
      "outputs": []
    },
    {
      "cell_type": "code",
      "metadata": {
        "colab": {
          "base_uri": "https://localhost:8080/"
        },
        "id": "G6SQwOTKgnlk",
        "outputId": "de062518-30d6-4458-c536-6597f6881a17"
      },
      "source": [
        "print(dtst[0])"
      ],
      "execution_count": null,
      "outputs": [
        {
          "name": "stdout",
          "output_type": "stream",
          "text": [
            "['paper', 'describe', 'design', 'implementation', 'methodology', 'visualisation', 'hypothetical', 'virtual', 'reconstruction', 'research', 'purpose', 'methodology', 'intend', 'attempt', 'move', 'visualisation', 'simply', 'believable', 'physically', 'accurate', 'approach', 'accurate', 'representation', 'polychrome', 'statuary', 'great', 'potential', 'utility', 'mean', 'illustrate', 'exist', 'interpretation', 'mean', 'test', 'revise', 'develop', 'hypothesis', 'goal', 'methodology', 'propose', 'pipeline', 'incorporate', 'high', 'degree', 'physical', 'accuracy', 'also', 'practically', 'applicable', 'conventional', 'archaeological', 'research', 'set', 'methodology', 'design', 'allow', 'accurate', 'visualisation', 'surviving', 'object', 'colourant', 'well', 'provide', 'reliable', 'method', 'hypothetical', 'reconstruction', 'element', 'longer', 'survive', 'process', 'propose', 'intend', 'limit', 'need', 'specialist', 'recording', 'equipment', 'utilise', 'exist', 'datum', 'datum', 'collect', 'use', 'widely', 'available', 'technology', 'present', 'implement', 'part', 'statue', 'context', 'project', 'herculaneum', 'demonstrate', 'use', 'case', 'study', 'small', 'area', 'head', 'paint', 'female', 'statue', 'discover', 'herculaneum', 'methodology', 'physically', 'accurate', 'visualisation', 'roman', 'polychrome', 'statuary', 'visual', 'analytic', 'science', 'technology']\n"
          ]
        }
      ]
    },
    {
      "cell_type": "markdown",
      "metadata": {
        "id": "0kiwzPgnvgvu"
      },
      "source": [
        "Creating a dictionary of our preprocessed data and using it to create a bag-of-words corpus"
      ]
    },
    {
      "cell_type": "code",
      "metadata": {
        "colab": {
          "base_uri": "https://localhost:8080/"
        },
        "id": "-wTRkRl4gq1z",
        "outputId": "95217210-1c88-4d39-bac7-8b8e09e802a1"
      },
      "source": [
        "id2word = corpora.Dictionary(dtst)\n",
        "texts=dtst\n",
        "corpus = [id2word.doc2bow(text) for text in texts]\n",
        "print(corpus[:1])"
      ],
      "execution_count": null,
      "outputs": [
        {
          "name": "stdout",
          "output_type": "stream",
          "text": [
            "[[(0, 1), (1, 4), (2, 1), (3, 1), (4, 1), (5, 1), (6, 1), (7, 1), (8, 1), (9, 1), (10, 1), (11, 1), (12, 1), (13, 1), (14, 1), (15, 1), (16, 1), (17, 2), (18, 1), (19, 1), (20, 1), (21, 2), (22, 1), (23, 1), (24, 1), (25, 1), (26, 2), (27, 1), (28, 1), (29, 1), (30, 1), (31, 2), (32, 1), (33, 1), (34, 2), (35, 1), (36, 1), (37, 1), (38, 1), (39, 2), (40, 1), (41, 1), (42, 1), (43, 2), (44, 1), (45, 5), (46, 1), (47, 1), (48, 1), (49, 1), (50, 1), (51, 1), (52, 1), (53, 2), (54, 1), (55, 2), (56, 1), (57, 1), (58, 1), (59, 1), (60, 1), (61, 2), (62, 1), (63, 1), (64, 2), (65, 1), (66, 1), (67, 1), (68, 2), (69, 1), (70, 1), (71, 1), (72, 1), (73, 1), (74, 1), (75, 1), (76, 2), (77, 2), (78, 1), (79, 1), (80, 1), (81, 2), (82, 1), (83, 2), (84, 1), (85, 1), (86, 1), (87, 1), (88, 4), (89, 1), (90, 1)]]\n"
          ]
        }
      ]
    },
    {
      "cell_type": "markdown",
      "metadata": {
        "id": "WohRveBaxw4I"
      },
      "source": [
        "Printing the corpus to show combinations of words and frequencies."
      ]
    },
    {
      "cell_type": "code",
      "metadata": {
        "colab": {
          "base_uri": "https://localhost:8080/"
        },
        "id": "bDLNlEWIgtJN",
        "outputId": "e83690b5-e85e-4149-bd18-475bead7e670"
      },
      "source": [
        "[[(id2word[id], freq) for id, freq in cp] for cp in corpus[:1]]"
      ],
      "execution_count": null,
      "outputs": [
        {
          "data": {
            "text/plain": [
              "[[('accuracy', 1),\n",
              "  ('accurate', 4),\n",
              "  ('allow', 1),\n",
              "  ('also', 1),\n",
              "  ('analytic', 1),\n",
              "  ('applicable', 1),\n",
              "  ('approach', 1),\n",
              "  ('archaeological', 1),\n",
              "  ('area', 1),\n",
              "  ('attempt', 1),\n",
              "  ('available', 1),\n",
              "  ('believable', 1),\n",
              "  ('case', 1),\n",
              "  ('collect', 1),\n",
              "  ('colourant', 1),\n",
              "  ('context', 1),\n",
              "  ('conventional', 1),\n",
              "  ('datum', 2),\n",
              "  ('degree', 1),\n",
              "  ('demonstrate', 1),\n",
              "  ('describe', 1),\n",
              "  ('design', 2),\n",
              "  ('develop', 1),\n",
              "  ('discover', 1),\n",
              "  ('element', 1),\n",
              "  ('equipment', 1),\n",
              "  ('exist', 2),\n",
              "  ('female', 1),\n",
              "  ('goal', 1),\n",
              "  ('great', 1),\n",
              "  ('head', 1),\n",
              "  ('herculaneum', 2),\n",
              "  ('high', 1),\n",
              "  ('hypothesis', 1),\n",
              "  ('hypothetical', 2),\n",
              "  ('illustrate', 1),\n",
              "  ('implement', 1),\n",
              "  ('implementation', 1),\n",
              "  ('incorporate', 1),\n",
              "  ('intend', 2),\n",
              "  ('interpretation', 1),\n",
              "  ('limit', 1),\n",
              "  ('longer', 1),\n",
              "  ('mean', 2),\n",
              "  ('method', 1),\n",
              "  ('methodology', 5),\n",
              "  ('move', 1),\n",
              "  ('need', 1),\n",
              "  ('object', 1),\n",
              "  ('paint', 1),\n",
              "  ('paper', 1),\n",
              "  ('part', 1),\n",
              "  ('physical', 1),\n",
              "  ('physically', 2),\n",
              "  ('pipeline', 1),\n",
              "  ('polychrome', 2),\n",
              "  ('potential', 1),\n",
              "  ('practically', 1),\n",
              "  ('present', 1),\n",
              "  ('process', 1),\n",
              "  ('project', 1),\n",
              "  ('propose', 2),\n",
              "  ('provide', 1),\n",
              "  ('purpose', 1),\n",
              "  ('reconstruction', 2),\n",
              "  ('recording', 1),\n",
              "  ('reliable', 1),\n",
              "  ('representation', 1),\n",
              "  ('research', 2),\n",
              "  ('revise', 1),\n",
              "  ('roman', 1),\n",
              "  ('science', 1),\n",
              "  ('set', 1),\n",
              "  ('simply', 1),\n",
              "  ('small', 1),\n",
              "  ('specialist', 1),\n",
              "  ('statuary', 2),\n",
              "  ('statue', 2),\n",
              "  ('study', 1),\n",
              "  ('survive', 1),\n",
              "  ('surviving', 1),\n",
              "  ('technology', 2),\n",
              "  ('test', 1),\n",
              "  ('use', 2),\n",
              "  ('utilise', 1),\n",
              "  ('utility', 1),\n",
              "  ('virtual', 1),\n",
              "  ('visual', 1),\n",
              "  ('visualisation', 4),\n",
              "  ('well', 1),\n",
              "  ('widely', 1)]]"
            ]
          },
          "execution_count": 14,
          "metadata": {},
          "output_type": "execute_result"
        }
      ]
    },
    {
      "cell_type": "markdown",
      "metadata": {
        "id": "-3VbvMrsyAAT"
      },
      "source": [
        "Number of branches will determine the number of clusters at each heirarchical level"
      ]
    },
    {
      "cell_type": "code",
      "metadata": {
        "id": "2EJbfxGrU_sc"
      },
      "source": [
        "branches = 4"
      ],
      "execution_count": null,
      "outputs": []
    },
    {
      "cell_type": "code",
      "metadata": {
        "id": "qiVfgiPcZQOP"
      },
      "source": [
        "branches2 = branches*branches"
      ],
      "execution_count": null,
      "outputs": []
    },
    {
      "cell_type": "markdown",
      "metadata": {
        "id": "jRrDt437ywso"
      },
      "source": [
        "Here we have used the LDA (Latent Dirichlet Allocation) method for clustering "
      ]
    },
    {
      "cell_type": "code",
      "metadata": {
        "id": "41gj2tv2gv0V"
      },
      "source": [
        "lda_model1 = gensim.models.ldamodel.LdaModel(corpus=corpus, id2word=id2word, num_topics=branches, random_state=100, update_every=1, chunksize=100, passes=10, alpha='auto', per_word_topics=True)"
      ],
      "execution_count": null,
      "outputs": []
    },
    {
      "cell_type": "code",
      "metadata": {
        "colab": {
          "base_uri": "https://localhost:8080/"
        },
        "id": "MHEJTdN_g1tH",
        "outputId": "f67e3443-8ae8-4137-ccab-176e01a5394a"
      },
      "source": [
        "pprint(lda_model1.print_topics())\n",
        "doc_lda = lda_model1[corpus]"
      ],
      "execution_count": null,
      "outputs": [
        {
          "output_type": "stream",
          "name": "stdout",
          "text": [
            "[(0,\n",
            "  '0.022*\"problem\" + 0.011*\"algorithm\" + 0.011*\"time\" + 0.009*\"show\" + '\n",
            "  '0.009*\"use\" + 0.009*\"set\" + 0.008*\"model\" + 0.008*\"paper\" + 0.007*\"result\" '\n",
            "  '+ 0.007*\"give\"'),\n",
            " (1,\n",
            "  '0.029*\"network\" + 0.012*\"use\" + 0.012*\"system\" + 0.012*\"performance\" + '\n",
            "  '0.010*\"propose\" + 0.009*\"time\" + 0.009*\"control\" + 0.009*\"base\" + '\n",
            "  '0.008*\"scheme\" + 0.007*\"communication\"'),\n",
            " (2,\n",
            "  '0.025*\"system\" + 0.013*\"model\" + 0.011*\"use\" + 0.011*\"base\" + 0.011*\"user\" '\n",
            "  '+ 0.010*\"information\" + 0.010*\"paper\" + 0.009*\"process\" + '\n",
            "  '0.008*\"application\" + 0.008*\"service\"'),\n",
            " (3,\n",
            "  '0.021*\"use\" + 0.017*\"method\" + 0.015*\"image\" + 0.014*\"base\" + 0.013*\"datum\" '\n",
            "  '+ 0.011*\"propose\" + 0.010*\"model\" + 0.010*\"approach\" + 0.009*\"feature\" + '\n",
            "  '0.009*\"result\"')]\n"
          ]
        }
      ]
    },
    {
      "cell_type": "markdown",
      "metadata": {
        "id": "HMC0WkhezkL6"
      },
      "source": [
        "Analyzing performance of the models"
      ]
    },
    {
      "cell_type": "code",
      "metadata": {
        "colab": {
          "base_uri": "https://localhost:8080/"
        },
        "id": "23RH0hHpg37c",
        "outputId": "d84e8e67-f660-4633-c531-3b58582968cb"
      },
      "source": [
        "print('\\nPerplexity: ', lda_model1.log_perplexity(corpus))\n",
        "coherence_model_lda = CoherenceModel(model=lda_model1, texts=dtst, dictionary=id2word, coherence='c_v')\n",
        "coherence_lda = coherence_model_lda.get_coherence()\n",
        "print('\\nCoherence Score: ', coherence_lda)"
      ],
      "execution_count": null,
      "outputs": [
        {
          "output_type": "stream",
          "name": "stdout",
          "text": [
            "\n",
            "Perplexity:  -7.640504873674151\n",
            "\n",
            "Coherence Score:  0.40279244492955313\n"
          ]
        }
      ]
    },
    {
      "cell_type": "code",
      "metadata": {
        "colab": {
          "base_uri": "https://localhost:8080/",
          "height": 916
        },
        "id": "BzfTuFVAg653",
        "outputId": "ba68395c-76b9-41a4-b233-4c057d95758c"
      },
      "source": [
        "pyLDAvis.enable_notebook()\n",
        "vis = pyLDAvis.gensim_models.prepare(lda_model1, corpus, id2word)\n",
        "vis"
      ],
      "execution_count": null,
      "outputs": [
        {
          "output_type": "stream",
          "name": "stderr",
          "text": [
            "/usr/local/lib/python3.7/dist-packages/pyLDAvis/_prepare.py:247: FutureWarning: In a future version of pandas all arguments of DataFrame.drop except for the argument 'labels' will be keyword-only\n",
            "  by='saliency', ascending=False).head(R).drop('saliency', 1)\n"
          ]
        },
        {
          "output_type": "execute_result",
          "data": {
            "text/html": [
              "\n",
              "<link rel=\"stylesheet\" type=\"text/css\" href=\"https://cdn.jsdelivr.net/gh/bmabey/pyLDAvis@3.3.1/pyLDAvis/js/ldavis.v1.0.0.css\">\n",
              "\n",
              "\n",
              "<div id=\"ldavis_el1721403585381467683939532231\"></div>\n",
              "<script type=\"text/javascript\">\n",
              "\n",
              "var ldavis_el1721403585381467683939532231_data = {\"mdsDat\": {\"x\": [-0.08197055615783251, -0.11105313610117175, -0.08424290355985761, 0.27726659581886176], \"y\": [0.22025887464024174, -0.17071585994127053, -0.035497916039590474, -0.014045098659380804], \"topics\": [1, 2, 3, 4], \"cluster\": [1, 1, 1, 1], \"Freq\": [34.028941016116946, 25.409004684294835, 24.39682356274088, 16.165230736847334]}, \"tinfo\": {\"Term\": [\"network\", \"problem\", \"image\", \"method\", \"user\", \"system\", \"feature\", \"object\", \"algorithm\", \"datum\", \"service\", \"software\", \"time\", \"performance\", \"web\", \"control\", \"agent\", \"information\", \"database\", \"scheme\", \"propose\", \"set\", \"communication\", \"cluster\", \"detection\", \"function\", \"sensor\", \"technology\", \"security\", \"graph\", \"user\", \"service\", \"software\", \"web\", \"agent\", \"technology\", \"resource\", \"development\", \"management\", \"requirement\", \"interaction\", \"ontology\", \"engineering\", \"orient\", \"business\", \"project\", \"robot\", \"interface\", \"platform\", \"experience\", \"activity\", \"game\", \"student\", \"community\", \"social\", \"library\", \"conceptual\", \"electronic\", \"organization\", \"interactive\", \"research\", \"tool\", \"support\", \"environment\", \"system\", \"process\", \"information\", \"design\", \"knowledge\", \"issue\", \"context\", \"application\", \"model\", \"develop\", \"provide\", \"describe\", \"paper\", \"base\", \"study\", \"use\", \"task\", \"approach\", \"computer\", \"present\", \"graph\", \"logic\", \"constraint\", \"solve\", \"optimization\", \"programming\", \"parallel\", \"variable\", \"path\", \"optimal\", \"bound\", \"operator\", \"fuzzy\", \"verification\", \"check\", \"proof\", \"genetic\", \"approximation\", \"bind\", \"evolutionary\", \"polynomial\", \"maximum\", \"discrete\", \"heuristic\", \"generalize\", \"scheduling\", \"approximate\", \"finite\", \"numerical\", \"classical\", \"problem\", \"prove\", \"computation\", \"complexity\", \"function\", \"property\", \"algorithm\", \"program\", \"give\", \"theory\", \"linear\", \"tree\", \"solution\", \"time\", \"number\", \"set\", \"rule\", \"order\", \"show\", \"case\", \"result\", \"model\", \"paper\", \"use\", \"method\", \"present\", \"base\", \"new\", \"approach\", \"image\", \"feature\", \"object\", \"database\", \"cluster\", \"query\", \"classification\", \"recognition\", \"document\", \"text\", \"shape\", \"speech\", \"mining\", \"prediction\", \"extract\", \"visual\", \"automatic\", \"vision\", \"segmentation\", \"classifier\", \"training\", \"similarity\", \"word\", \"statistical\", \"dataset\", \"expression\", \"collection\", \"index\", \"mapping\", \"extraction\", \"translation\", \"map\", \"filter\", \"pattern\", \"accuracy\", \"method\", \"datum\", \"use\", \"propose\", \"processing\", \"data\", \"base\", \"approach\", \"experiment\", \"result\", \"learn\", \"model\", \"measure\", \"technique\", \"paper\", \"show\", \"information\", \"set\", \"computer\", \"different\", \"present\", \"performance\", \"network\", \"sensor\", \"security\", \"detection\", \"attack\", \"video\", \"wireless\", \"traffic\", \"channel\", \"protocol\", \"memory\", \"route\", \"energy\", \"motion\", \"hardware\", \"message\", \"server\", \"location\", \"delay\", \"fault\", \"packet\", \"surface\", \"secure\", \"bandwidth\", \"signature\", \"cell\", \"peer\", \"transmission\", \"interference\", \"topology\", \"scheme\", \"control\", \"communication\", \"node\", \"rate\", \"simulation\", \"power\", \"performance\", \"mobile\", \"high\", \"propose\", \"time\", \"key\", \"system\", \"use\", \"distribute\", \"low\", \"base\", \"code\", \"paper\", \"result\", \"show\", \"application\", \"datum\"], \"Freq\": [26197.0, 31765.0, 20919.0, 32555.0, 20018.0, 66302.0, 12510.0, 12468.0, 19165.0, 27438.0, 14528.0, 14526.0, 26217.0, 19203.0, 13063.0, 9857.0, 12618.0, 28158.0, 9042.0, 9118.0, 31077.0, 20165.0, 8938.0, 7589.0, 5672.0, 10628.0, 5573.0, 9422.0, 5524.0, 7334.0, 20017.83450937459, 14528.213874566685, 14525.98508411721, 13062.46727278936, 12618.085580491195, 9422.218706301594, 9043.827091199508, 8534.338694568085, 8519.462093660884, 6706.446395047556, 5330.158113350406, 4790.806757154091, 4855.5045253524595, 4830.133667269335, 4468.403986806217, 4293.4580988128, 4395.5128910480535, 4159.340323715528, 3948.5439253250224, 3626.927604665138, 3594.6132411487697, 3433.8367246864086, 3260.7104697217874, 3180.981200565124, 3092.999741829248, 2822.5975824914535, 2745.224343111951, 2621.7453248096967, 2473.315227562786, 2491.9764792898204, 7553.562024191656, 9477.39056392917, 12223.596752079278, 10902.17008533594, 47432.60496270468, 16221.421907374508, 19779.13795635236, 14035.343155416775, 9155.154200493329, 5337.938521631139, 6153.097827662688, 15897.454203938996, 25145.26872985443, 8551.809650045345, 12033.322840172612, 8898.468883251606, 18996.738683412757, 20025.59544450604, 9579.961837191933, 21059.59665758199, 8113.554918625365, 12405.003299918097, 9353.146560660292, 10362.997528055748, 7333.743494206469, 7134.562917537515, 6926.621768860613, 6717.331009618624, 6493.307552479302, 6401.037678747617, 6066.646215602479, 4496.995593413278, 4658.181526323586, 4151.945709710903, 3809.7992732232346, 3586.0738936377097, 3418.9435937232915, 3325.3085776692824, 3218.4500878733643, 3086.037561403341, 2861.8921634465564, 2797.529552841961, 2706.642996893199, 2575.931858766552, 2488.2422011054127, 2693.5140355463964, 2501.1391774824083, 2470.486263184892, 2387.598562213586, 2141.2146620585813, 2108.197285568803, 2011.4841726468944, 2061.844243175792, 1949.1962082537623, 30628.90286175251, 5505.77926045197, 5491.672789787947, 5911.105250290803, 9609.937057771427, 6855.289364811294, 15107.958370714587, 6813.187727883475, 9971.487285529962, 6650.513389981699, 3984.8616746052785, 4953.007655451543, 6767.91364692411, 15021.223750892112, 9191.694594243321, 12170.637384862977, 5451.8549820999215, 7856.0176677132185, 12778.001794702517, 7473.375974551621, 10217.63457423428, 11531.950377618638, 10716.789561861135, 12717.878692897995, 9187.00532540919, 7862.874773302237, 7850.34361937763, 6300.7071534724455, 6334.7210408973415, 20918.721285430656, 12509.659526861285, 12468.221578653309, 9041.38804408102, 7588.612848803297, 7099.865519124153, 6314.086575121907, 5708.749087113044, 5364.535147921446, 5078.720361886348, 4422.975207164414, 3968.6766860168623, 3976.1931762240565, 3952.5141220346736, 3959.388716860503, 3864.449756376962, 4061.8349658873435, 3706.0815055739067, 3501.064626408266, 3358.5692458240846, 3416.504825499529, 3346.1834889226607, 3282.9445778561467, 3057.7979483745526, 2837.3838298237833, 2608.8187822051973, 2690.9501370925423, 2333.4489952365657, 2443.276089252838, 2153.85869315347, 2298.3819300808564, 4407.293350796051, 4741.0757761182695, 7786.166226653829, 4089.438688377321, 23367.842493698725, 18327.334738175778, 28530.53946138212, 14448.620181670283, 5936.9503517090225, 6197.052833132698, 18992.434812091375, 13601.544194982122, 5941.758697042292, 12476.485307428527, 6637.912165512226, 13784.516425845384, 5353.401769206007, 7600.946886007656, 9846.694188063475, 8121.163271610187, 8074.302687679261, 7151.301551102178, 6456.012404440863, 6210.633854444206, 6850.759977951267, 6249.281477400713, 26196.324334472916, 5573.036509803812, 5523.979343124786, 5671.809317332545, 4655.275730208194, 4398.237015877725, 4073.8085580051493, 3675.0099417070064, 3592.686373997621, 3554.744638162779, 3687.52683769224, 3442.970329615791, 3298.6469616317913, 2878.4607594749773, 2869.2173126715848, 2709.6098593554416, 2489.006505561941, 2685.991198177715, 2468.7588452950454, 2427.910320225256, 2068.2904966011297, 2295.759053322301, 2047.289753805695, 2022.0314246659145, 1944.4138869171154, 1947.28241232733, 1975.5446619494576, 1857.9574056549598, 1819.9721499755037, 1855.0720609811262, 7647.6771193842815, 8138.316904192192, 6769.381900907384, 4110.7831861819, 4311.053101464049, 5252.060205789029, 3664.3604044650683, 10416.831797248355, 4406.765643977311, 6419.959176333846, 9154.0490534051, 8353.437808768296, 3827.180126891639, 10471.128585026278, 10585.915013446627, 4503.821204690548, 3892.0663230440623, 7921.998468046418, 4100.1500477219915, 6017.114686172161, 5277.884082667997, 4934.185373985583, 4702.795195710855, 3958.8051610841153], \"Total\": [26197.0, 31765.0, 20919.0, 32555.0, 20018.0, 66302.0, 12510.0, 12468.0, 19165.0, 27438.0, 14528.0, 14526.0, 26217.0, 19203.0, 13063.0, 9857.0, 12618.0, 28158.0, 9042.0, 9118.0, 31077.0, 20165.0, 8938.0, 7589.0, 5672.0, 10628.0, 5573.0, 9422.0, 5524.0, 7334.0, 20018.476540647356, 14528.837852652416, 14526.613018002781, 13063.097139056756, 12618.705878541543, 9422.866189605727, 9044.479173601074, 8534.960389354123, 8520.094409680847, 6707.1083352124515, 5330.79135188955, 4791.432037919938, 4856.142207543526, 4830.772150770676, 4469.016796219376, 4294.089958194091, 4396.170612344354, 4159.974838245238, 3949.1851878311854, 3627.5566892540883, 3595.2550486486716, 3434.4816659625503, 3261.3237731651657, 3181.604487068213, 3093.6218965147364, 2823.2296412350784, 2745.8816006559264, 2622.3790448048494, 2473.9328907247896, 2492.634927706731, 7708.778157347212, 10252.50605151542, 13504.022602580017, 12176.996083020818, 66302.66119073328, 20836.630602040663, 28158.460379814413, 19200.041430252466, 11510.088868268596, 6020.606785462468, 7354.601302033428, 26766.29683854418, 50461.934588068936, 11922.957148226287, 20055.77072149282, 12995.255592606878, 45577.337119509524, 54790.37234402146, 16631.52759537546, 72893.92982530873, 12581.940030064756, 32341.4676445711, 17651.584823077832, 28765.108984914375, 7334.41205508432, 7135.229753546742, 6927.307795067159, 6718.019876235106, 6493.991832097188, 6401.720250973695, 6067.344158442538, 4497.694651817328, 4658.936236466622, 4152.637645660122, 3810.4708666855713, 3586.770485120097, 3419.6331286619743, 3326.003319679861, 3219.129043995964, 3086.7118477321505, 2862.5702578733967, 2798.1984286947045, 2707.3161176274684, 2576.610141939903, 2488.8995857430896, 2694.2411081058963, 2501.8254792496627, 2471.1680318680355, 2388.281667724255, 2141.908872727019, 2108.8898860373765, 2012.1503206809498, 2062.5393829448, 1949.893744725954, 31765.89930064992, 5628.170013655051, 5731.329513286675, 6221.173120666294, 10628.345339942638, 7427.097655924141, 19165.354746804802, 7933.021710543529, 12903.49671587996, 8243.503260622567, 4467.680155993314, 5961.396742856027, 9016.566036679103, 26217.74912556201, 13776.417853259367, 20165.879301576897, 7134.762401951865, 12444.512876268078, 27735.833089137497, 13283.409706597376, 32479.394966283005, 50461.934588068936, 45577.337119509524, 72893.92982530873, 32555.296737267534, 28765.108984914375, 54790.37234402146, 18300.40453967461, 32341.4676445711, 20919.3432378892, 12510.316181985645, 12468.87887036803, 9042.033852336373, 7589.258384404775, 7100.508550679017, 6314.709527578176, 5709.368814352935, 5365.185223468955, 5079.342988133995, 4423.608633219931, 3969.2969563482743, 3976.820556906853, 3953.150968439927, 3960.028690896516, 3865.087972404306, 4062.505958928603, 3706.7297403968796, 3501.681885343402, 3359.188487232283, 3417.1418285809277, 3346.809954877717, 3283.5790472768545, 3058.4566455787685, 2838.01310011592, 2609.500958126369, 2691.6786420026433, 2334.0893727854077, 2443.9577086354943, 2154.4856222827566, 2299.060908089704, 4456.168434808218, 4960.205141861322, 8595.085074056215, 4304.133004933842, 32555.296737267534, 27438.072060187107, 72893.92982530873, 31077.157543500885, 8364.80811499807, 8981.0621992003, 54790.37234402146, 32341.4676445711, 8580.531187170633, 32479.394966283005, 11301.065060153525, 50461.934588068936, 7385.199673217996, 17787.87115068558, 45577.337119509524, 27735.833089137497, 28158.460379814413, 20165.879301576897, 17651.584823077832, 16672.24239651613, 28765.108984914375, 19203.923397449325, 26197.020760226107, 5573.714864936044, 5524.668502629345, 5672.590693656619, 4655.949106212623, 4398.944504440497, 4074.4747028226498, 3675.679249273455, 3593.3621362169974, 3555.4266007224105, 3688.2343585106837, 3443.64369522025, 3299.3223816756004, 2879.160177206391, 2869.9158636080097, 2710.316505764484, 2489.6816379685124, 2686.7230634486336, 2469.4337203460905, 2428.5891464862184, 2068.9527425661345, 2296.504060611926, 2047.9651495089197, 2022.7015063268186, 1945.095317624516, 1947.9656523496951, 1976.251673891774, 1858.6243819317515, 1820.652035544978, 1855.8079743509147, 9118.17785592139, 9857.306232173303, 8938.356678458938, 5051.030289535259, 5483.938093596446, 7128.790519438674, 4485.553703374679, 19203.923397449325, 6958.032922618882, 14146.333680241038, 31077.157543500885, 26217.74912556201, 5934.959458471221, 66302.66119073328, 72893.92982530873, 9149.932625806261, 6529.341770234219, 54790.37234402146, 7892.912036686781, 45577.337119509524, 32479.394966283005, 27735.833089137497, 26766.29683854418, 27438.072060187107], \"Category\": [\"Default\", \"Default\", \"Default\", \"Default\", \"Default\", \"Default\", \"Default\", \"Default\", \"Default\", \"Default\", \"Default\", \"Default\", \"Default\", \"Default\", \"Default\", \"Default\", \"Default\", \"Default\", \"Default\", \"Default\", \"Default\", \"Default\", \"Default\", \"Default\", \"Default\", \"Default\", \"Default\", \"Default\", \"Default\", \"Default\", \"Topic1\", \"Topic1\", \"Topic1\", \"Topic1\", \"Topic1\", \"Topic1\", \"Topic1\", \"Topic1\", \"Topic1\", \"Topic1\", \"Topic1\", \"Topic1\", \"Topic1\", \"Topic1\", \"Topic1\", \"Topic1\", \"Topic1\", \"Topic1\", \"Topic1\", \"Topic1\", \"Topic1\", \"Topic1\", \"Topic1\", \"Topic1\", \"Topic1\", \"Topic1\", \"Topic1\", \"Topic1\", \"Topic1\", \"Topic1\", \"Topic1\", \"Topic1\", \"Topic1\", \"Topic1\", \"Topic1\", \"Topic1\", \"Topic1\", \"Topic1\", \"Topic1\", \"Topic1\", \"Topic1\", \"Topic1\", \"Topic1\", \"Topic1\", \"Topic1\", \"Topic1\", \"Topic1\", \"Topic1\", \"Topic1\", \"Topic1\", \"Topic1\", \"Topic1\", \"Topic1\", \"Topic1\", \"Topic2\", \"Topic2\", \"Topic2\", \"Topic2\", \"Topic2\", \"Topic2\", \"Topic2\", \"Topic2\", \"Topic2\", \"Topic2\", \"Topic2\", \"Topic2\", \"Topic2\", \"Topic2\", \"Topic2\", \"Topic2\", \"Topic2\", \"Topic2\", \"Topic2\", \"Topic2\", \"Topic2\", \"Topic2\", \"Topic2\", \"Topic2\", \"Topic2\", \"Topic2\", \"Topic2\", \"Topic2\", \"Topic2\", \"Topic2\", \"Topic2\", \"Topic2\", \"Topic2\", \"Topic2\", \"Topic2\", \"Topic2\", \"Topic2\", \"Topic2\", \"Topic2\", \"Topic2\", \"Topic2\", \"Topic2\", \"Topic2\", \"Topic2\", \"Topic2\", \"Topic2\", \"Topic2\", \"Topic2\", \"Topic2\", \"Topic2\", \"Topic2\", \"Topic2\", \"Topic2\", \"Topic2\", \"Topic2\", \"Topic2\", \"Topic2\", \"Topic2\", \"Topic2\", \"Topic3\", \"Topic3\", \"Topic3\", \"Topic3\", \"Topic3\", \"Topic3\", \"Topic3\", \"Topic3\", \"Topic3\", \"Topic3\", \"Topic3\", \"Topic3\", \"Topic3\", \"Topic3\", \"Topic3\", \"Topic3\", \"Topic3\", \"Topic3\", \"Topic3\", \"Topic3\", \"Topic3\", \"Topic3\", \"Topic3\", \"Topic3\", \"Topic3\", \"Topic3\", \"Topic3\", \"Topic3\", \"Topic3\", \"Topic3\", \"Topic3\", \"Topic3\", \"Topic3\", \"Topic3\", \"Topic3\", \"Topic3\", \"Topic3\", \"Topic3\", \"Topic3\", \"Topic3\", \"Topic3\", \"Topic3\", \"Topic3\", \"Topic3\", \"Topic3\", \"Topic3\", \"Topic3\", \"Topic3\", \"Topic3\", \"Topic3\", \"Topic3\", \"Topic3\", \"Topic3\", \"Topic3\", \"Topic3\", \"Topic3\", \"Topic3\", \"Topic4\", \"Topic4\", \"Topic4\", \"Topic4\", \"Topic4\", \"Topic4\", \"Topic4\", \"Topic4\", \"Topic4\", \"Topic4\", \"Topic4\", \"Topic4\", \"Topic4\", \"Topic4\", \"Topic4\", \"Topic4\", \"Topic4\", \"Topic4\", \"Topic4\", \"Topic4\", \"Topic4\", \"Topic4\", \"Topic4\", \"Topic4\", \"Topic4\", \"Topic4\", \"Topic4\", \"Topic4\", \"Topic4\", \"Topic4\", \"Topic4\", \"Topic4\", \"Topic4\", \"Topic4\", \"Topic4\", \"Topic4\", \"Topic4\", \"Topic4\", \"Topic4\", \"Topic4\", \"Topic4\", \"Topic4\", \"Topic4\", \"Topic4\", \"Topic4\", \"Topic4\", \"Topic4\", \"Topic4\", \"Topic4\", \"Topic4\", \"Topic4\", \"Topic4\", \"Topic4\", \"Topic4\"], \"logprob\": [30.0, 29.0, 28.0, 27.0, 26.0, 25.0, 24.0, 23.0, 22.0, 21.0, 20.0, 19.0, 18.0, 17.0, 16.0, 15.0, 14.0, 13.0, 12.0, 11.0, 10.0, 9.0, 8.0, 7.0, 6.0, 5.0, 4.0, 3.0, 2.0, 1.0, -4.5534, -4.874, -4.8741, -4.9803, -5.0149, -5.307, -5.348, -5.4059, -5.4077, -5.647, -5.8767, -5.9833, -5.9699, -5.9752, -6.053, -6.093, -6.0695, -6.1247, -6.1767, -6.2617, -6.2706, -6.3164, -6.3681, -6.3929, -6.4209, -6.5124, -6.5402, -6.5862, -6.6445, -6.637, -5.528, -5.3011, -5.0467, -5.1611, -3.6907, -4.7637, -4.5654, -4.9085, -5.3357, -5.8752, -5.7331, -4.7839, -4.3254, -5.4039, -5.0624, -5.3642, -4.6058, -4.553, -5.2904, -4.5027, -5.4565, -5.0319, -5.3143, -5.2118, -5.2655, -5.293, -5.3226, -5.3532, -5.3872, -5.4015, -5.4551, -5.7545, -5.7193, -5.8344, -5.9204, -5.9809, -6.0286, -6.0564, -6.089, -6.1311, -6.2065, -6.2292, -6.2622, -6.3117, -6.3464, -6.2671, -6.3412, -6.3535, -6.3877, -6.4966, -6.5121, -6.5591, -6.5343, -6.5905, -3.836, -5.5521, -5.5547, -5.4811, -4.9951, -5.3329, -4.5427, -5.3391, -4.9582, -5.3632, -5.8754, -5.6579, -5.3457, -4.5485, -5.0396, -4.7589, -5.562, -5.1967, -4.7102, -5.2466, -4.9338, -4.8128, -4.8861, -4.7149, -5.0401, -5.1958, -5.1974, -5.4173, -5.4119, -4.1766, -4.6908, -4.6941, -5.0155, -5.1906, -5.2572, -5.3745, -5.4753, -5.5375, -5.5922, -5.7305, -5.8389, -5.837, -5.8429, -5.8412, -5.8655, -5.8157, -5.9073, -5.9642, -6.0058, -5.9887, -6.0095, -6.0285, -6.0996, -6.1744, -6.2584, -6.2274, -6.3699, -6.3239, -6.45, -6.3851, -5.734, -5.661, -5.1649, -5.8089, -4.0659, -4.3089, -3.8663, -4.5467, -5.4361, -5.3932, -4.2732, -4.6071, -5.4353, -4.6934, -5.3245, -4.5937, -5.5396, -5.189, -4.9302, -5.1228, -5.1286, -5.25, -5.3523, -5.391, -5.2929, -5.3848, -3.5401, -5.0878, -5.0966, -5.0702, -5.2677, -5.3245, -5.4011, -5.5041, -5.5268, -5.5374, -5.5007, -5.5694, -5.6122, -5.7484, -5.7517, -5.8089, -5.8938, -5.8176, -5.902, -5.9187, -6.079, -5.9746, -6.0892, -6.1016, -6.1407, -6.1393, -6.1249, -6.1862, -6.2069, -6.1878, -4.7713, -4.7091, -4.8933, -5.3921, -5.3445, -5.1471, -5.507, -4.4623, -5.3226, -4.9463, -4.5915, -4.683, -5.4636, -4.4571, -4.4462, -5.3008, -5.4468, -4.7361, -5.3947, -5.0111, -5.1422, -5.2095, -5.2575, -5.4298], \"loglift\": [30.0, 29.0, 28.0, 27.0, 26.0, 25.0, 24.0, 23.0, 22.0, 21.0, 20.0, 19.0, 18.0, 17.0, 16.0, 15.0, 14.0, 13.0, 12.0, 11.0, 10.0, 9.0, 8.0, 7.0, 6.0, 5.0, 4.0, 3.0, 2.0, 1.0, 1.0779, 1.0779, 1.0779, 1.0779, 1.0779, 1.0779, 1.0779, 1.0779, 1.0779, 1.0779, 1.0778, 1.0778, 1.0778, 1.0778, 1.0778, 1.0778, 1.0778, 1.0778, 1.0778, 1.0778, 1.0778, 1.0778, 1.0778, 1.0778, 1.0778, 1.0777, 1.0777, 1.0777, 1.0777, 1.0777, 1.0576, 0.9993, 0.9783, 0.9674, 0.743, 0.8276, 0.7247, 0.7646, 0.8491, 0.9576, 0.8996, 0.557, 0.3814, 0.7456, 0.5671, 0.6993, 0.2028, 0.0715, 0.5263, -0.1637, 0.6392, 0.1197, 0.4428, 0.057, 1.37, 1.37, 1.37, 1.37, 1.37, 1.37, 1.37, 1.3699, 1.3699, 1.3699, 1.3699, 1.3699, 1.3699, 1.3699, 1.3699, 1.3698, 1.3698, 1.3698, 1.3698, 1.3698, 1.3698, 1.3698, 1.3698, 1.3698, 1.3698, 1.3697, 1.3697, 1.3697, 1.3697, 1.3697, 1.3336, 1.3481, 1.3274, 1.3189, 1.2693, 1.29, 1.1322, 1.2179, 1.1123, 1.1553, 1.2557, 1.1848, 1.0832, 0.8131, 0.9654, 0.8651, 1.101, 0.9101, 0.5951, 0.7949, 0.2136, -0.106, -0.0775, -0.3759, 0.1049, 0.0731, -0.5729, 0.3038, -0.2602, 1.4107, 1.4107, 1.4107, 1.4106, 1.4106, 1.4106, 1.4106, 1.4106, 1.4106, 1.4106, 1.4106, 1.4106, 1.4106, 1.4106, 1.4106, 1.4106, 1.4106, 1.4105, 1.4105, 1.4105, 1.4105, 1.4105, 1.4105, 1.4105, 1.4105, 1.4105, 1.4104, 1.4104, 1.4104, 1.4104, 1.4104, 1.3997, 1.3655, 1.3119, 1.3595, 1.0791, 1.0072, 0.4727, 0.6448, 1.0679, 1.0397, 0.3512, 0.5446, 1.0432, 0.454, 0.8786, 0.113, 1.089, 0.5605, -0.1216, 0.1825, 0.1616, 0.374, 0.4049, 0.4232, -0.0241, 0.2881, 1.8223, 1.8222, 1.8222, 1.8222, 1.8222, 1.8221, 1.8221, 1.8221, 1.8221, 1.8221, 1.8221, 1.8221, 1.8221, 1.8221, 1.8221, 1.822, 1.822, 1.822, 1.822, 1.822, 1.822, 1.822, 1.822, 1.822, 1.822, 1.822, 1.8219, 1.8219, 1.8219, 1.8219, 1.6464, 1.6307, 1.5444, 1.6163, 1.5817, 1.5168, 1.6201, 1.2106, 1.3656, 1.0323, 0.6, 0.6785, 1.3836, -0.0233, -0.1072, 1.1135, 1.3049, -0.1116, 1.1674, -0.2025, 0.0052, 0.0958, 0.0833, -0.1137]}, \"token.table\": {\"Topic\": [3, 4, 1, 1, 2, 3, 1, 2, 3, 4, 1, 2, 3, 2, 2, 4, 3, 4, 1, 2, 3, 4, 2, 2, 1, 1, 2, 3, 4, 4, 2, 2, 3, 3, 3, 1, 2, 3, 4, 3, 1, 4, 1, 1, 2, 2, 4, 1, 3, 4, 1, 2, 1, 2, 3, 2, 4, 1, 3, 4, 3, 3, 1, 3, 4, 4, 1, 2, 3, 1, 2, 4, 4, 1, 2, 3, 4, 1, 1, 2, 3, 4, 2, 1, 2, 4, 3, 1, 4, 1, 1, 4, 2, 1, 1, 2, 3, 4, 3, 3, 3, 4, 3, 3, 4, 2, 2, 3, 4, 2, 1, 2, 2, 1, 2, 3, 2, 4, 2, 1, 2, 3, 4, 3, 3, 1, 3, 4, 1, 1, 1, 4, 1, 2, 3, 4, 1, 2, 3, 4, 1, 2, 3, 1, 3, 1, 2, 3, 4, 2, 1, 2, 3, 4, 1, 3, 4, 3, 2, 1, 2, 3, 4, 4, 4, 2, 3, 3, 1, 4, 1, 2, 3, 4, 4, 1, 2, 3, 4, 2, 4, 1, 2, 3, 4, 2, 3, 1, 2, 2, 2, 1, 2, 3, 4, 1, 1, 4, 1, 2, 3, 4, 2, 2, 1, 3, 4, 1, 2, 3, 4, 1, 2, 2, 4, 3, 1, 2, 3, 4, 2, 3, 1, 2, 3, 2, 3, 4, 1, 2, 2, 1, 2, 2, 3, 4, 1, 2, 3, 4, 4, 2, 4, 1, 2, 3, 4, 3, 3, 4, 3, 1, 1, 3, 1, 1, 2, 3, 4, 1, 4, 2, 3, 2, 2, 3, 4, 4, 4, 3, 4, 4, 1, 1, 2, 3, 3, 1, 2, 3, 4, 4, 3, 1, 2, 4, 1, 1, 1, 2, 4, 2, 3, 3, 1, 1, 2, 3, 4, 1, 3, 4, 1, 2, 3, 4, 1, 2, 3, 1, 2, 3, 4, 1, 3, 1, 2, 1, 2, 3, 4, 1, 2, 3, 4, 4, 3, 3, 4, 2, 3, 1, 2, 3, 4, 1, 2, 2, 4, 3, 3, 1, 4, 3], \"Freq\": [0.9500171103710702, 0.04971965312286843, 0.999929059650784, 0.9999440609402948, 0.7882974356380629, 0.21168405456603262, 0.5939185422582588, 0.1436881621390994, 0.08667616644896271, 0.17570603914201363, 0.38356329825008195, 0.19587855658317363, 0.4205746056265711, 0.9995780310564016, 0.9999290869822992, 0.999796151935734, 0.9998754564464106, 0.9996531834654672, 0.3655021702400453, 0.14327334646880832, 0.34663024154593725, 0.14458744595234388, 0.9998832357900838, 0.9998764282152928, 0.9997724787652987, 0.4303112021878746, 0.5625814580038466, 0.007076496327092409, 0.999504276500702, 0.9998992207845272, 0.9996492703521563, 0.9995416443955618, 0.9998876389206698, 0.9999438890574317, 0.9999659539322965, 0.03167398785619089, 0.4032732133850224, 0.04561054251291488, 0.5194534008415306, 0.9997478740619131, 0.24266205500919405, 0.7572980407363922, 0.9998100055897362, 0.04982983016019954, 0.9501423421836758, 0.9582418856337175, 0.04170062102448261, 0.5298674364792337, 0.3657461958633522, 0.10435323618034306, 0.9996789371196064, 0.9999555678661517, 0.83661911058303, 0.052484150281984325, 0.1108149805176612, 0.1742869663917524, 0.8255805194971368, 0.19685867448478733, 0.6900074693338388, 0.1131269305862805, 0.9998856615277871, 0.9996430248627539, 0.18776829467824013, 0.6679405156382195, 0.14428856339890386, 0.9998243644514461, 0.6847114269196949, 0.14605330279766024, 0.16921560213490772, 0.7309880059886648, 0.0792185790601182, 0.18979125713022402, 0.9998958688034235, 0.717271721577246, 0.12194961215777779, 0.10567848096203578, 0.05518765116906312, 0.9998874758276183, 0.4261574316772576, 0.10472496491322897, 0.37253537060484826, 0.09656769387760518, 0.9996700492274504, 0.44513988972034657, 0.0626234119346326, 0.4922440616991016, 0.9999654767801595, 0.9998554576594866, 0.9999022885191847, 0.999970715943346, 0.8952946954792382, 0.10462350413140245, 0.9997631997445126, 0.9998465387858066, 0.14113345358043253, 0.0963809794475786, 0.6924979200453593, 0.07004228373397188, 0.9998080253142622, 0.9997402314536558, 0.9997745994321178, 0.9997574120402083, 0.999974726299396, 0.955807242726444, 0.04415139973783827, 0.999428312751226, 0.9041859003098469, 0.059369542465714194, 0.036412064871999036, 0.999814854799286, 0.9998597558498205, 0.9998820626025559, 0.9998007881651714, 0.08532570854573328, 0.7727362760304327, 0.14189952075135115, 0.999943818934466, 0.9996808744048481, 0.9995273361208252, 0.17347250923591861, 0.10539833385116326, 0.26727773326039456, 0.453827835898369, 0.9999835923200219, 0.9995332771751976, 0.7024176653556923, 0.2867344269215764, 0.010831558113832152, 0.9998515507666099, 0.9997452785004038, 0.999765662465966, 0.9996418670167346, 0.8866215964957701, 0.005148982669795593, 0.050161056976718355, 0.05796757908898909, 0.28509040572887756, 0.05004246483538809, 0.020050684563674013, 0.6448232758418525, 0.7953891672581969, 0.04283198901783627, 0.16177112282192926, 0.4126159769171927, 0.5873782660897116, 0.9999186600934886, 0.8919617924425931, 0.10788596837072267, 0.9997308753334236, 0.9999678001193124, 0.009648752082055597, 0.20139855536354143, 0.19282188684615867, 0.5960784619581013, 0.9998715495828775, 0.9889662081836603, 0.010771585657548377, 0.9996081320752358, 0.999910509825876, 0.12917727918171615, 0.08219141348354476, 0.7248280665196295, 0.06377620387273408, 0.9999364578039508, 0.9998832218437179, 0.2821967827276236, 0.7177941024032991, 0.9997936650912176, 0.3666266067392863, 0.6333686616621069, 0.498296393217259, 0.22852869383899108, 0.27317620920659835, 0.9995970431879492, 0.9999610352552891, 0.29627760349479165, 0.3443093285910517, 0.24584155996367904, 0.11354940244599356, 0.18610064603007728, 0.8138933572655827, 0.06126411154118106, 0.6672271484437634, 0.11824554229927008, 0.15330545447271848, 0.9997384859900083, 0.9999295148844441, 0.9999098311493267, 0.9997851869465043, 0.9998464480374809, 0.9998472692724548, 0.19478464316772207, 0.6312822428736075, 0.11041010714209988, 0.06356215047263537, 0.9996229118710992, 0.999840159968929, 0.9995395049164086, 0.4168080278623446, 0.23513879215669567, 0.21605035797023253, 0.1320173660918949, 0.9999432769209146, 0.9997990450139038, 0.0941235593399676, 0.9058665426711839, 0.9998726508900162, 0.0679548638573163, 0.06420562998932644, 0.3254022561259537, 0.5424412389284781, 0.9999531073316703, 0.9996385608530602, 0.18303202999940135, 0.8168445285235159, 0.9999618106059869, 0.3602628450125042, 0.2733519975232385, 0.23817048645958375, 0.12821088221616478, 0.9642100703685522, 0.03579309967707218, 0.7784847900702033, 0.09555287695146876, 0.1259320688702431, 0.013030783073740018, 0.7097592578788485, 0.2772328986055331, 0.1410559608721066, 0.8588152470256141, 0.9998874910265587, 0.9997461724824811, 0.9997693831600531, 0.9229715721500156, 0.022215945937965366, 0.05466469121705417, 0.08437065057606385, 0.15612753493328063, 0.4649395614696974, 0.2945571835901177, 0.9998800141951113, 0.9782931195470922, 0.021676672826869824, 0.5999769426514636, 0.15187648693728564, 0.09099625366400076, 0.15711188783302266, 0.9999283782738394, 0.21371503105925568, 0.7861139069082349, 0.9999354019043212, 0.9998347521529312, 0.9799218301282034, 0.020106947798500335, 0.9999470203212505, 0.1387649001675904, 0.314599456381726, 0.38412045584443266, 0.16250302708776176, 0.9999611906908539, 0.9998130772875419, 0.7641459789198433, 0.23574716370931334, 0.9995756716176902, 0.11592228367354984, 0.04529413732940027, 0.8387640733541242, 0.9995287275717797, 0.9998789967888522, 0.9998052691918543, 0.9998717435402839, 0.9997262148066977, 0.9999423317500744, 0.04185287372686012, 0.6035442252720551, 0.3546088862805411, 0.9998624125074356, 0.06857554968287223, 0.4607036665866148, 0.29279812774690084, 0.1778926194191859, 0.9994368822881885, 0.9997579919718668, 0.13284160860355418, 0.13031663610633773, 0.7367308641878211, 0.9997989746208362, 0.999957800348779, 0.18443828761803208, 0.7506183587485514, 0.06488057622161682, 0.999848187969983, 0.9999251866636485, 0.9998506941141609, 0.9999007233909648, 0.5760144367414453, 0.2421304944423591, 0.12692760709407006, 0.05495586588535292, 0.9052117550265755, 0.09478657120697125, 0.999780509592571, 0.7154011490360724, 0.08412935317865647, 0.042547311817316226, 0.15792729600819502, 0.6448925984873128, 0.01645215280834037, 0.3386600150547745, 0.13143787585339514, 0.25770368815738376, 0.4273136417286811, 0.18349581983981253, 0.9999080757820075, 0.9999324739174345, 0.19324308484348113, 0.8068171734425568, 0.07239370515409621, 0.5729324789882398, 0.03604428417840934, 0.31860095845741077, 0.9243593666154635, 0.06632524736715366, 0.00926602720570529, 0.9995646239470454, 0.9998152044214442, 0.9999584949680047, 0.9995385472016114, 0.9996640623367361, 0.8308455574501962, 0.16908789055315926, 0.2889129458443326, 0.17447268970789276, 0.3914043332328895, 0.14522471247426896, 0.9999761949593722, 0.9998455538067602, 0.9996983407461069, 0.9997852883937172, 0.9998031309407517, 0.9997185129000753, 0.9999160123326745, 0.9998834934912417, 0.9998236536204802], \"Term\": [\"accuracy\", \"accuracy\", \"activity\", \"agent\", \"algorithm\", \"algorithm\", \"application\", \"application\", \"application\", \"application\", \"approach\", \"approach\", \"approach\", \"approximate\", \"approximation\", \"attack\", \"automatic\", \"bandwidth\", \"base\", \"base\", \"base\", \"base\", \"bind\", \"bound\", \"business\", \"case\", \"case\", \"case\", \"cell\", \"channel\", \"check\", \"classical\", \"classification\", \"classifier\", \"cluster\", \"code\", \"code\", \"code\", \"code\", \"collection\", \"communication\", \"communication\", \"community\", \"complexity\", \"complexity\", \"computation\", \"computation\", \"computer\", \"computer\", \"computer\", \"conceptual\", \"constraint\", \"context\", \"context\", \"context\", \"control\", \"control\", \"data\", \"data\", \"data\", \"database\", \"dataset\", \"datum\", \"datum\", \"datum\", \"delay\", \"describe\", \"describe\", \"describe\", \"design\", \"design\", \"design\", \"detection\", \"develop\", \"develop\", \"develop\", \"develop\", \"development\", \"different\", \"different\", \"different\", \"different\", \"discrete\", \"distribute\", \"distribute\", \"distribute\", \"document\", \"electronic\", \"energy\", \"engineering\", \"environment\", \"environment\", \"evolutionary\", \"experience\", \"experiment\", \"experiment\", \"experiment\", \"experiment\", \"expression\", \"extract\", \"extraction\", \"fault\", \"feature\", \"filter\", \"filter\", \"finite\", \"function\", \"function\", \"function\", \"fuzzy\", \"game\", \"generalize\", \"genetic\", \"give\", \"give\", \"give\", \"graph\", \"hardware\", \"heuristic\", \"high\", \"high\", \"high\", \"high\", \"image\", \"index\", \"information\", \"information\", \"information\", \"interaction\", \"interactive\", \"interface\", \"interference\", \"issue\", \"issue\", \"issue\", \"issue\", \"key\", \"key\", \"key\", \"key\", \"knowledge\", \"knowledge\", \"knowledge\", \"learn\", \"learn\", \"library\", \"linear\", \"linear\", \"location\", \"logic\", \"low\", \"low\", \"low\", \"low\", \"management\", \"map\", \"map\", \"mapping\", \"maximum\", \"measure\", \"measure\", \"measure\", \"measure\", \"memory\", \"message\", \"method\", \"method\", \"mining\", \"mobile\", \"mobile\", \"model\", \"model\", \"model\", \"motion\", \"network\", \"new\", \"new\", \"new\", \"new\", \"node\", \"node\", \"number\", \"number\", \"number\", \"number\", \"numerical\", \"object\", \"ontology\", \"operator\", \"optimal\", \"optimization\", \"order\", \"order\", \"order\", \"order\", \"organization\", \"orient\", \"packet\", \"paper\", \"paper\", \"paper\", \"paper\", \"parallel\", \"path\", \"pattern\", \"pattern\", \"peer\", \"performance\", \"performance\", \"performance\", \"performance\", \"platform\", \"polynomial\", \"power\", \"power\", \"prediction\", \"present\", \"present\", \"present\", \"present\", \"problem\", \"problem\", \"process\", \"process\", \"process\", \"processing\", \"processing\", \"processing\", \"program\", \"program\", \"programming\", \"project\", \"proof\", \"property\", \"property\", \"property\", \"propose\", \"propose\", \"propose\", \"propose\", \"protocol\", \"prove\", \"prove\", \"provide\", \"provide\", \"provide\", \"provide\", \"query\", \"rate\", \"rate\", \"recognition\", \"requirement\", \"research\", \"research\", \"resource\", \"result\", \"result\", \"result\", \"result\", \"robot\", \"route\", \"rule\", \"rule\", \"scheduling\", \"scheme\", \"scheme\", \"scheme\", \"secure\", \"security\", \"segmentation\", \"sensor\", \"server\", \"service\", \"set\", \"set\", \"set\", \"shape\", \"show\", \"show\", \"show\", \"show\", \"signature\", \"similarity\", \"simulation\", \"simulation\", \"simulation\", \"social\", \"software\", \"solution\", \"solution\", \"solution\", \"solve\", \"speech\", \"statistical\", \"student\", \"study\", \"study\", \"study\", \"study\", \"support\", \"support\", \"surface\", \"system\", \"system\", \"system\", \"system\", \"task\", \"task\", \"task\", \"technique\", \"technique\", \"technique\", \"technique\", \"technology\", \"text\", \"theory\", \"theory\", \"time\", \"time\", \"time\", \"time\", \"tool\", \"tool\", \"tool\", \"topology\", \"traffic\", \"training\", \"translation\", \"transmission\", \"tree\", \"tree\", \"use\", \"use\", \"use\", \"use\", \"user\", \"variable\", \"verification\", \"video\", \"vision\", \"visual\", \"web\", \"wireless\", \"word\"]}, \"R\": 30, \"lambda.step\": 0.01, \"plot.opts\": {\"xlab\": \"PC1\", \"ylab\": \"PC2\"}, \"topic.order\": [3, 1, 4, 2]};\n",
              "\n",
              "function LDAvis_load_lib(url, callback){\n",
              "  var s = document.createElement('script');\n",
              "  s.src = url;\n",
              "  s.async = true;\n",
              "  s.onreadystatechange = s.onload = callback;\n",
              "  s.onerror = function(){console.warn(\"failed to load library \" + url);};\n",
              "  document.getElementsByTagName(\"head\")[0].appendChild(s);\n",
              "}\n",
              "\n",
              "if(typeof(LDAvis) !== \"undefined\"){\n",
              "   // already loaded: just create the visualization\n",
              "   !function(LDAvis){\n",
              "       new LDAvis(\"#\" + \"ldavis_el1721403585381467683939532231\", ldavis_el1721403585381467683939532231_data);\n",
              "   }(LDAvis);\n",
              "}else if(typeof define === \"function\" && define.amd){\n",
              "   // require.js is available: use it to load d3/LDAvis\n",
              "   require.config({paths: {d3: \"https://d3js.org/d3.v5\"}});\n",
              "   require([\"d3\"], function(d3){\n",
              "      window.d3 = d3;\n",
              "      LDAvis_load_lib(\"https://cdn.jsdelivr.net/gh/bmabey/pyLDAvis@3.3.1/pyLDAvis/js/ldavis.v3.0.0.js\", function(){\n",
              "        new LDAvis(\"#\" + \"ldavis_el1721403585381467683939532231\", ldavis_el1721403585381467683939532231_data);\n",
              "      });\n",
              "    });\n",
              "}else{\n",
              "    // require.js not available: dynamically load d3 & LDAvis\n",
              "    LDAvis_load_lib(\"https://d3js.org/d3.v5.js\", function(){\n",
              "         LDAvis_load_lib(\"https://cdn.jsdelivr.net/gh/bmabey/pyLDAvis@3.3.1/pyLDAvis/js/ldavis.v3.0.0.js\", function(){\n",
              "                 new LDAvis(\"#\" + \"ldavis_el1721403585381467683939532231\", ldavis_el1721403585381467683939532231_data);\n",
              "            })\n",
              "         });\n",
              "}\n",
              "</script>"
            ],
            "text/plain": [
              "PreparedData(topic_coordinates=              x         y  topics  cluster       Freq\n",
              "topic                                                \n",
              "2     -0.081971  0.220259       1        1  34.028941\n",
              "0     -0.111053 -0.170716       2        1  25.409005\n",
              "3     -0.084243 -0.035498       3        1  24.396824\n",
              "1      0.277267 -0.014045       4        1  16.165231, topic_info=            Term          Freq         Total Category  logprob  loglift\n",
              "110      network  26197.000000  26197.000000  Default  30.0000  30.0000\n",
              "172      problem  31765.000000  31765.000000  Default  29.0000  29.0000\n",
              "390        image  20919.000000  20919.000000  Default  28.0000  28.0000\n",
              "44        method  32555.000000  32555.000000  Default  27.0000  27.0000\n",
              "208         user  20018.000000  20018.000000  Default  26.0000  26.0000\n",
              "..           ...           ...           ...      ...      ...      ...\n",
              "50         paper   6017.114686  45577.337120   Topic4  -5.0111  -0.2025\n",
              "116       result   5277.884083  32479.394966   Topic4  -5.1422   0.0052\n",
              "117         show   4934.185374  27735.833089   Topic4  -5.2095   0.0958\n",
              "152  application   4702.795196  26766.296839   Topic4  -5.2575   0.0833\n",
              "17         datum   3958.805161  27438.072060   Topic4  -5.4298  -0.1137\n",
              "\n",
              "[254 rows x 6 columns], token_table=      Topic      Freq       Term\n",
              "term                            \n",
              "0         3  0.950017   accuracy\n",
              "0         4  0.049720   accuracy\n",
              "1247      1  0.999929   activity\n",
              "718       1  0.999944      agent\n",
              "473       2  0.788297  algorithm\n",
              "...     ...       ...        ...\n",
              "467       3  0.999803     vision\n",
              "87        3  0.999719     visual\n",
              "266       1  0.999916        web\n",
              "703       4  0.999883   wireless\n",
              "332       3  0.999824       word\n",
              "\n",
              "[344 rows x 3 columns], R=30, lambda_step=0.01, plot_opts={'xlab': 'PC1', 'ylab': 'PC2'}, topic_order=[3, 1, 4, 2])"
            ]
          },
          "metadata": {},
          "execution_count": 24
        }
      ]
    },
    {
      "cell_type": "markdown",
      "metadata": {
        "id": "vbPl9gVyzqti"
      },
      "source": [
        "We create another level of heirarchy for clustering by using the data from bag-of-words of each article"
      ]
    },
    {
      "cell_type": "code",
      "metadata": {
        "colab": {
          "base_uri": "https://localhost:8080/"
        },
        "id": "8xh1fcU-F4Su",
        "outputId": "2d9701ba-c678-403b-df3c-ff44a3aca99a"
      },
      "source": [
        "tstdc = [id2word.doc2bow(dtst[i]) for i in range(100000)]\n",
        "vctrt = [lda_model1[tstdc[i]] for i in range(100000)]\n",
        "print(vctrt[0])"
      ],
      "execution_count": null,
      "outputs": [
        {
          "output_type": "stream",
          "name": "stdout",
          "text": [
            "([(0, 0.080858715), (1, 0.11892929), (2, 0.5050257), (3, 0.29518637)], [(0, [3, 1]), (1, [3, 1]), (2, [2, 3, 1, 0]), (3, [2, 3, 0, 1]), (4, [2, 0]), (5, [2, 0, 3, 1]), (6, [2, 3, 0]), (7, [3, 2]), (8, [2, 1, 3, 0]), (9, [2, 3, 1, 0]), (10, [2, 3, 1]), (11, [2]), (12, [2, 0, 3]), (13, [2, 3, 1]), (14, [2, 3, 1, 0]), (15, [2, 3, 0]), (16, [3, 1, 0]), (17, [3, 2, 1]), (18, [0, 2, 1, 3]), (19, [3, 2, 1, 0]), (20, [2, 3, 0]), (21, [2, 1, 0]), (22, [2, 3, 1, 0]), (23, [3, 2]), (24, [2, 0, 3, 1]), (25, [2, 1]), (26, [2, 3, 1, 0]), (27, [3]), (28, [2, 0]), (29, [2, 3, 1, 0]), (30, [3, 1]), (31, [2, 3, 1, 0]), (32, [1, 3, 2, 0]), (33, [3, 2, 0]), (34, [0]), (35, [2, 0, 3]), (36, [2, 1, 0]), (37, [2, 1, 0]), (38, [2, 3, 0]), (39, [2, 3]), (40, [3, 2, 0]), (41, [1, 2, 0, 3]), (42, [2, 1, 0]), (43, [3, 2, 0, 1]), (44, [3, 0]), (45, [2, 3, 0]), (46, [1, 2, 0]), (47, [2, 3, 1, 0]), (48, [3]), (49, [2]), (50, [2, 3, 1, 0]), (51, [2, 3, 0, 1]), (52, [2, 1]), (53, [1]), (54, [1, 3]), (55, [2, 3, 1, 0]), (56, [2, 3, 1, 0]), (57, [0, 1]), (58, [2, 3, 1, 0]), (59, [2, 3, 0]), (60, [2]), (61, [3, 1, 2, 0]), (62, [2, 1, 3, 0]), (63, [2, 3, 0, 1]), (64, [3]), (65, [3]), (66, [1, 2, 3, 0]), (67, [3, 0]), (68, [2, 3]), (69, [2, 0]), (70, [3, 2]), (71, [2, 0]), (72, [3, 0, 2]), (73, [3, 0, 1]), (74, [3, 1, 0, 2]), (75, [2]), (76, [2, 3, 1, 0]), (77, [2, 3, 1, 0]), (78, [2, 3, 0, 1]), (79, [1, 2]), (80, [2, 3, 1, 0]), (81, [2]), (82, [2, 3, 0, 1]), (83, [3, 2, 1, 0]), (84, [2, 1]), (85, [2, 0]), (86, [2, 1]), (87, [3]), (88, [2]), (89, [2, 3, 0, 1]), (90, [3, 2, 1, 0])], [(0, [(1, 0.030195316), (3, 0.9697994)]), (1, [(1, 0.51466113), (3, 3.485295)]), (2, [(0, 0.09487678), (1, 0.10006844), (2, 0.65179443), (3, 0.15326038)]), (3, [(0, 0.11681076), (1, 0.10202609), (2, 0.53766906), (3, 0.2434942)]), (4, [(0, 0.110505484), (2, 0.8894459)]), (5, [(0, 0.2903092), (1, 0.08488098), (2, 0.40319064), (3, 0.22161913)]), (6, [(0, 0.05254892), (2, 0.50165397), (3, 0.44579682)]), (7, [(2, 0.08973068), (3, 0.9100328)]), (8, [(0, 0.010493996), (1, 0.2321652), (2, 0.6362772), (3, 0.12106357)]), (9, [(0, 0.04131485), (1, 0.047300395), (2, 0.7319197), (3, 0.17946506)]), (10, [(1, 0.090329014), (2, 0.62159127), (3, 0.27886268)]), (11, [(2, 0.9993198)]), (12, [(0, 0.20930138), (2, 0.7803833), (3, 0.010314354)]), (13, [(1, 0.103105955), (2, 0.7016804), (3, 0.19521193)]), (14, [(0, 0.07108497), (1, 0.16120079), (2, 0.42736903), (3, 0.34034526)]), (15, [(0, 0.011471994), (2, 0.8926864), (3, 0.09584071)]), (16, [(0, 0.02797128), (1, 0.39821774), (3, 0.57378614)]), (17, [(1, 0.17428164), (2, 0.47012606), (3, 1.3555921)]), (18, [(0, 0.45627627), (1, 0.19085953), (2, 0.23441158), (3, 0.11845265)]), (19, [(0, 0.0627711), (1, 0.16022204), (2, 0.2398415), (3, 0.5371654)]), (20, [(0, 0.03516749), (2, 0.80388016), (3, 0.16095175)]), (21, [(0, 0.038729098), (1, 0.2182861), (2, 1.742983)]), (22, [(0, 0.02926478), (1, 0.031128133), (2, 0.83942), (3, 0.10018704)]), (23, [(2, 0.2894519), (3, 0.7105391)]), (24, [(0, 0.25785622), (1, 0.037905723), (2, 0.6482022), (3, 0.05603578)]), (25, [(1, 0.2907121), (2, 0.7092129)]), (26, [(0, 0.18396683), (1, 0.18713449), (2, 1.1494128), (3, 0.4794859)]), (27, [(3, 0.9993615)]), (28, [(0, 0.028127078), (2, 0.9718673)]), (29, [(0, 0.05488896), (1, 0.09467413), (2, 0.61888266), (3, 0.23155418)]), (30, [(1, 0.43744355), (3, 0.5624955)]), (31, [(0, 0.14216994), (1, 0.32240158), (2, 0.85473806), (3, 0.6806905)]), (32, [(0, 0.034280263), (1, 0.34717008), (2, 0.27505693), (3, 0.34349275)]), (33, [(0, 0.032872014), (2, 0.31382647), (3, 0.65329397)]), (34, [(0, 1.9953504)]), (35, [(0, 0.179662), (2, 0.800369), (3, 0.019964986)]), (36, [(0, 0.058427535), (1, 0.14424476), (2, 0.797325)]), (37, [(0, 0.07270002), (1, 0.18337137), (2, 0.7439262)]), (38, [(0, 0.040417098), (2, 0.53526014), (3, 0.4243169)]), (39, [(2, 1.8153304), (3, 0.1846404)]), (40, [(0, 0.1378386), (2, 0.3575048), (3, 0.5046477)]), (41, [(0, 0.16302402), (1, 0.4763123), (2, 0.2786808), (3, 0.08198292)]), (42, [(0, 0.1296064), (1, 0.3462226), (2, 0.5240394)]), (43, [(0, 0.120734885), (1, 0.09044961), (2, 0.8876291), (3, 0.90118647)]), (44, [(0, 0.0904997), (3, 0.90949917)]), (45, [(0, 0.027243), (2, 4.6735063), (3, 0.29924133)]), (46, [(0, 0.04163119), (1, 0.70305383), (2, 0.25529748)]), (47, [(0, 0.019305786), (1, 0.03951423), (2, 0.84544116), (3, 0.0957388)]), (48, [(3, 0.99999696)]), (49, [(2, 0.9939923)]), (50, [(0, 0.068531424), (1, 0.09048795), (2, 0.5922027), (3, 0.24877797)]), (51, [(0, 0.0636408), (1, 0.010604587), (2, 0.5357445), (3, 0.39001)]), (52, [(1, 0.284886), (2, 0.71510434)]), (53, [(1, 1.9994425)]), (54, [(1, 0.6781431), (3, 0.3217908)]), (55, [(0, 0.14216994), (1, 0.32240158), (2, 0.85473806), (3, 0.6806905)]), (56, [(0, 0.010588636), (1, 0.10938302), (2, 0.69471323), (3, 0.18531513)]), (57, [(0, 0.68658453), (1, 0.3123927)]), (58, [(0, 0.08353964), (1, 0.09215618), (2, 0.53673446), (3, 0.2875697)]), (59, [(0, 0.021773279), (2, 0.8648614), (3, 0.11336498)]), (60, [(2, 0.9999947)]), (61, [(0, 0.10082413), (1, 0.44734433), (2, 0.2655939), (3, 1.1862376)]), (62, [(0, 0.03990961), (1, 0.097071424), (2, 0.7685532), (3, 0.09446584)]), (63, [(0, 0.016748155), (1, 0.010173867), (2, 0.8495634), (3, 0.123514466)]), (64, [(3, 1.9999619)]), (65, [(3, 0.99981993)]), (66, [(0, 0.013939835), (1, 0.4700406), (2, 0.28686467), (3, 0.22915478)]), (67, [(0, 0.11566967), (3, 0.8843232)]), (68, [(2, 1.9674101), (3, 0.032587253)]), (69, [(0, 0.16212673), (2, 0.8377075)]), (70, [(2, 0.039728157), (3, 0.9580326)]), (71, [(0, 0.13314298), (2, 0.8668531)]), (72, [(0, 0.27328184), (2, 0.09230882), (3, 0.6344086)]), (73, [(0, 0.3728224), (1, 0.1298458), (3, 0.4970891)]), (74, [(0, 0.22898309), (1, 0.28881016), (2, 0.18102852), (3, 0.30117816)]), (75, [(2, 0.9997949)]), (76, [(0, 0.14216994), (1, 0.32240158), (2, 0.85473806), (3, 0.6806905)]), (77, [(0, 0.14216994), (1, 0.32240158), (2, 0.85473806), (3, 0.6806905)]), (78, [(0, 0.0657897), (1, 0.03508402), (2, 0.76291996), (3, 0.1362063)]), (79, [(1, 0.73618895), (2, 0.26330325)]), (80, [(0, 0.07108497), (1, 0.16120079), (2, 0.42736903), (3, 0.34034526)]), (81, [(2, 1.9999948)]), (82, [(0, 0.08591899), (1, 0.025139803), (2, 0.55801016), (3, 0.33093098)]), (83, [(0, 0.100536436), (1, 0.19679925), (2, 0.8115656), (3, 0.89109886)]), (84, [(1, 0.057993714), (2, 0.9418438)]), (85, [(0, 0.10120239), (2, 0.898766)]), (86, [(1, 0.047436524), (2, 0.95255923)]), (87, [(3, 0.99999136)]), (88, [(2, 3.9988616)]), (89, [(0, 0.09998254), (1, 0.06823023), (2, 0.4208886), (3, 0.41089863)]), (90, [(0, 0.06876353), (1, 0.109504774), (2, 0.390193), (3, 0.43153864)])])\n"
          ]
        }
      ]
    },
    {
      "cell_type": "code",
      "metadata": {
        "colab": {
          "base_uri": "https://localhost:8080/"
        },
        "id": "_qL0ytyyHcmi",
        "outputId": "88bf813a-2691-4860-b389-c45faefa8496"
      },
      "source": [
        "print(vctrt[0][0])"
      ],
      "execution_count": null,
      "outputs": [
        {
          "output_type": "stream",
          "name": "stdout",
          "text": [
            "[(0, 0.080858715), (1, 0.11892929), (2, 0.5050257), (3, 0.29518637)]\n"
          ]
        }
      ]
    },
    {
      "cell_type": "code",
      "metadata": {
        "colab": {
          "base_uri": "https://localhost:8080/"
        },
        "id": "vzNINbcPHnNB",
        "outputId": "1545b57d-08db-4086-8b2c-b64aea376381"
      },
      "source": [
        "abx = [vctrt[i][0] for i in range(100000)]\n",
        "print (abx[0:10])"
      ],
      "execution_count": null,
      "outputs": [
        {
          "output_type": "stream",
          "name": "stdout",
          "text": [
            "[[(0, 0.080858715), (1, 0.11892929), (2, 0.5050257), (3, 0.29518637)], [(0, 0.02434343), (1, 0.11095845), (2, 0.25153962), (3, 0.6131585)], [(0, 0.55737257), (1, 0.09218696), (2, 0.107057), (3, 0.24338348)], [(0, 0.9387306), (1, 0.013899789), (2, 0.02795466), (3, 0.019414986)], [(0, 0.032628868), (1, 0.02573743), (2, 0.75536066), (3, 0.1862731)], [(0, 0.1041947), (1, 0.17132084), (2, 0.6545024), (3, 0.06998208)], [(0, 0.104547955), (1, 0.22488087), (2, 0.6332762), (3, 0.037294995)], [(0, 0.16001098), (1, 0.27293032), (2, 0.41450843), (3, 0.15255024)], [(0, 0.18581048), (2, 0.071019165), (3, 0.73591197)], [(0, 0.6632068), (1, 0.053174023), (2, 0.2153057), (3, 0.06831345)]]\n"
          ]
        }
      ]
    },
    {
      "cell_type": "code",
      "metadata": {
        "colab": {
          "base_uri": "https://localhost:8080/"
        },
        "id": "o-AUBN_J-F_n",
        "outputId": "036525f9-9e7a-4e73-e384-1e1d2f0204fd"
      },
      "source": [
        "reslt = [max(abx[k], key= lambda i : i[1])[0] for k in range(100000)]\n",
        "print(reslt[0:10])"
      ],
      "execution_count": null,
      "outputs": [
        {
          "output_type": "stream",
          "name": "stdout",
          "text": [
            "[2, 3, 0, 0, 2, 2, 2, 2, 3, 0]\n"
          ]
        }
      ]
    },
    {
      "cell_type": "code",
      "metadata": {
        "id": "H3MI3lk7JS9V"
      },
      "source": [
        "dtst1 = [[dtst[i] for i in range(100000) if reslt[i]==j] for j in range(branches)]\n",
        "id2word2 = [corpora.Dictionary(dtst1[i]) for i in range(branches)]\n",
        "corpus1 = [[id2word2[i].doc2bow(text) for text in dtst1[i]] for i in range(branches)]"
      ],
      "execution_count": null,
      "outputs": []
    },
    {
      "cell_type": "code",
      "metadata": {
        "id": "3vKUI_GARXrL"
      },
      "source": [
        "lda_model2 = [gensim.models.ldamodel.LdaModel(corpus=corpus1[i], id2word=id2word2[i], num_topics=branches, random_state=100, update_every=1, chunksize=100, passes=10, alpha='auto', per_word_topics=True) for i in range(branches)]"
      ],
      "execution_count": null,
      "outputs": []
    },
    {
      "cell_type": "code",
      "metadata": {
        "colab": {
          "base_uri": "https://localhost:8080/"
        },
        "id": "clFqFflvYOR1",
        "outputId": "19d3bdbc-399b-441a-b2c7-6562081b6ef2"
      },
      "source": [
        "for i in range(branches):\n",
        "  pprint(lda_model2[i].print_topics())"
      ],
      "execution_count": null,
      "outputs": [
        {
          "output_type": "stream",
          "name": "stdout",
          "text": [
            "[(0,\n",
            "  '0.016*\"language\" + 0.011*\"science\" + 0.010*\"code\" + 0.010*\"computer\" + '\n",
            "  '0.009*\"show\" + 0.008*\"prove\" + 0.008*\"computation\" + 0.008*\"theory\" + '\n",
            "  '0.008*\"proof\" + 0.008*\"complexity\"'),\n",
            " (1,\n",
            "  '0.027*\"problem\" + 0.017*\"algorithm\" + 0.016*\"use\" + 0.011*\"base\" + '\n",
            "  '0.011*\"time\" + 0.010*\"network\" + 0.010*\"propose\" + 0.010*\"optimization\" + '\n",
            "  '0.009*\"result\" + 0.009*\"search\"'),\n",
            " (2,\n",
            "  '0.020*\"problem\" + 0.017*\"graph\" + 0.015*\"time\" + 0.012*\"number\" + '\n",
            "  '0.012*\"give\" + 0.011*\"set\" + 0.010*\"function\" + 0.010*\"show\" + '\n",
            "  '0.009*\"bound\" + 0.008*\"result\"'),\n",
            " (3,\n",
            "  '0.024*\"system\" + 0.021*\"model\" + 0.016*\"logic\" + 0.014*\"program\" + '\n",
            "  '0.013*\"use\" + 0.012*\"base\" + 0.010*\"set\" + 0.010*\"paper\" + 0.009*\"rule\" + '\n",
            "  '0.008*\"approach\"')]\n",
            "[(0,\n",
            "  '0.026*\"system\" + 0.016*\"use\" + 0.012*\"time\" + 0.011*\"application\" + '\n",
            "  '0.011*\"performance\" + 0.011*\"datum\" + 0.010*\"design\" + 0.009*\"high\" + '\n",
            "  '0.008*\"paper\" + 0.007*\"base\"'),\n",
            " (1,\n",
            "  '0.034*\"attack\" + 0.027*\"key\" + 0.026*\"scheme\" + 0.025*\"security\" + '\n",
            "  '0.013*\"base\" + 0.013*\"secure\" + 0.013*\"propose\" + 0.011*\"signature\" + '\n",
            "  '0.011*\"use\" + 0.010*\"information\"'),\n",
            " (2,\n",
            "  '0.036*\"network\" + 0.014*\"propose\" + 0.012*\"base\" + 0.012*\"communication\" + '\n",
            "  '0.010*\"wireless\" + 0.009*\"sensor\" + 0.009*\"performance\" + 0.009*\"paper\" + '\n",
            "  '0.008*\"mobile\" + 0.008*\"use\"'),\n",
            " (3,\n",
            "  '0.016*\"model\" + 0.015*\"use\" + 0.012*\"control\" + 0.009*\"image\" + '\n",
            "  '0.007*\"signal\" + 0.007*\"method\" + 0.007*\"base\" + 0.007*\"result\" + '\n",
            "  '0.006*\"neural\" + 0.006*\"system\"')]\n",
            "[(0,\n",
            "  '0.036*\"agent\" + 0.018*\"learn\" + 0.015*\"environment\" + 0.014*\"interaction\" + '\n",
            "  '0.012*\"learning\" + 0.011*\"task\" + 0.011*\"computer\" + 0.011*\"student\" + '\n",
            "  '0.011*\"human\" + 0.011*\"use\"'),\n",
            " (1,\n",
            "  '0.016*\"study\" + 0.012*\"research\" + 0.011*\"information\" + 0.011*\"use\" + '\n",
            "  '0.009*\"result\" + 0.008*\"technology\" + 0.006*\"paper\" + 0.006*\"group\" + '\n",
            "  '0.005*\"social\" + 0.005*\"theory\"'),\n",
            " (2,\n",
            "  '0.036*\"user\" + 0.028*\"web\" + 0.026*\"information\" + 0.026*\"datum\" + '\n",
            "  '0.021*\"network\" + 0.014*\"semantic\" + 0.010*\"base\" + 0.010*\"ontology\" + '\n",
            "  '0.009*\"use\" + 0.009*\"data\"'),\n",
            " (3,\n",
            "  '0.034*\"system\" + 0.024*\"model\" + 0.016*\"base\" + 0.014*\"use\" + '\n",
            "  '0.013*\"process\" + 0.013*\"application\" + 0.012*\"paper\" + 0.012*\"service\" + '\n",
            "  '0.012*\"software\" + 0.012*\"approach\"')]\n",
            "[(0,\n",
            "  '0.078*\"image\" + 0.029*\"object\" + 0.016*\"computer\" + 0.015*\"use\" + '\n",
            "  '0.014*\"shape\" + 0.013*\"recognition\" + 0.010*\"vision\" + 0.010*\"face\" + '\n",
            "  '0.010*\"visual\" + 0.010*\"video\"'),\n",
            " (1,\n",
            "  '0.021*\"system\" + 0.018*\"text\" + 0.017*\"use\" + 0.015*\"speech\" + '\n",
            "  '0.015*\"query\" + 0.015*\"document\" + 0.014*\"language\" + 0.013*\"web\" + '\n",
            "  '0.012*\"word\" + 0.011*\"semantic\"'),\n",
            " (2,\n",
            "  '0.021*\"datum\" + 0.014*\"method\" + 0.014*\"approach\" + 0.013*\"feature\" + '\n",
            "  '0.012*\"set\" + 0.012*\"use\" + 0.012*\"base\" + 0.010*\"propose\" + '\n",
            "  '0.010*\"problem\" + 0.009*\"classification\"'),\n",
            " (3,\n",
            "  '0.022*\"use\" + 0.022*\"model\" + 0.018*\"method\" + 0.013*\"base\" + '\n",
            "  '0.011*\"propose\" + 0.010*\"result\" + 0.008*\"network\" + 0.008*\"segmentation\" + '\n",
            "  '0.007*\"time\" + 0.007*\"analysis\"')]\n"
          ]
        }
      ]
    },
    {
      "cell_type": "code",
      "metadata": {
        "colab": {
          "base_uri": "https://localhost:8080/"
        },
        "id": "MvGwLKjtcv9F",
        "outputId": "32ed4f23-1f0b-4743-85d3-7e749eb12bdb"
      },
      "source": [
        "print('\\nPerplexity: ', lda_model2[1].log_perplexity(corpus1[1]))\n",
        "coherence_model_lda = CoherenceModel(model=lda_model2[1], texts=dtst1[1], dictionary=id2word2[1], coherence='c_v')\n",
        "coherence_lda = coherence_model_lda.get_coherence()\n",
        "print('\\nCoherence Score: ', coherence_lda)"
      ],
      "execution_count": null,
      "outputs": [
        {
          "output_type": "stream",
          "name": "stdout",
          "text": [
            "\n",
            "Perplexity:  -7.572216589256754\n",
            "\n",
            "Coherence Score:  0.4625621432487025\n"
          ]
        }
      ]
    },
    {
      "cell_type": "code",
      "metadata": {
        "colab": {
          "base_uri": "https://localhost:8080/",
          "height": 916
        },
        "id": "9X0Kr7ybCHe6",
        "outputId": "beacdfb5-7c62-49db-b7b3-25a1302f1ce3"
      },
      "source": [
        "pyLDAvis.enable_notebook()\n",
        "vis = pyLDAvis.gensim_models.prepare(lda_model2, corpus, id2word)\n",
        "vis"
      ],
      "execution_count": null,
      "outputs": [
        {
          "name": "stderr",
          "output_type": "stream",
          "text": [
            "/usr/local/lib/python3.7/dist-packages/pyLDAvis/_prepare.py:247: FutureWarning: In a future version of pandas all arguments of DataFrame.drop except for the argument 'labels' will be keyword-only\n",
            "  by='saliency', ascending=False).head(R).drop('saliency', 1)\n"
          ]
        },
        {
          "data": {
            "text/html": [
              "\n",
              "<link rel=\"stylesheet\" type=\"text/css\" href=\"https://cdn.jsdelivr.net/gh/bmabey/pyLDAvis@3.3.1/pyLDAvis/js/ldavis.v1.0.0.css\">\n",
              "\n",
              "\n",
              "<div id=\"ldavis_el1741402064662729766040482026\"></div>\n",
              "<script type=\"text/javascript\">\n",
              "\n",
              "var ldavis_el1741402064662729766040482026_data = {\"mdsDat\": {\"x\": [-0.08197055615783251, -0.11105313610117175, -0.08424290355985761, 0.27726659581886176], \"y\": [0.22025887464024174, -0.17071585994127053, -0.035497916039590474, -0.014045098659380804], \"topics\": [1, 2, 3, 4], \"cluster\": [1, 1, 1, 1], \"Freq\": [34.028941016116946, 25.409004684294835, 24.39682356274088, 16.165230736847334]}, \"tinfo\": {\"Term\": [\"network\", \"problem\", \"image\", \"method\", \"user\", \"system\", \"feature\", \"object\", \"algorithm\", \"datum\", \"service\", \"software\", \"time\", \"performance\", \"web\", \"control\", \"agent\", \"information\", \"database\", \"scheme\", \"propose\", \"set\", \"communication\", \"cluster\", \"detection\", \"function\", \"sensor\", \"technology\", \"security\", \"graph\", \"user\", \"service\", \"software\", \"web\", \"agent\", \"technology\", \"resource\", \"development\", \"management\", \"requirement\", \"interaction\", \"ontology\", \"engineering\", \"orient\", \"business\", \"project\", \"robot\", \"interface\", \"platform\", \"experience\", \"activity\", \"game\", \"student\", \"community\", \"social\", \"library\", \"conceptual\", \"electronic\", \"organization\", \"interactive\", \"research\", \"tool\", \"support\", \"environment\", \"system\", \"process\", \"information\", \"design\", \"knowledge\", \"issue\", \"context\", \"application\", \"model\", \"develop\", \"provide\", \"describe\", \"paper\", \"base\", \"study\", \"use\", \"task\", \"approach\", \"computer\", \"present\", \"graph\", \"logic\", \"constraint\", \"solve\", \"optimization\", \"programming\", \"parallel\", \"variable\", \"path\", \"optimal\", \"bound\", \"operator\", \"fuzzy\", \"verification\", \"check\", \"proof\", \"genetic\", \"approximation\", \"bind\", \"evolutionary\", \"polynomial\", \"maximum\", \"discrete\", \"heuristic\", \"generalize\", \"scheduling\", \"approximate\", \"finite\", \"numerical\", \"classical\", \"problem\", \"prove\", \"computation\", \"complexity\", \"function\", \"property\", \"algorithm\", \"program\", \"give\", \"theory\", \"linear\", \"tree\", \"solution\", \"time\", \"number\", \"set\", \"rule\", \"order\", \"show\", \"case\", \"result\", \"model\", \"paper\", \"use\", \"method\", \"present\", \"base\", \"new\", \"approach\", \"image\", \"feature\", \"object\", \"database\", \"cluster\", \"query\", \"classification\", \"recognition\", \"document\", \"text\", \"shape\", \"speech\", \"mining\", \"prediction\", \"extract\", \"visual\", \"automatic\", \"vision\", \"segmentation\", \"classifier\", \"training\", \"similarity\", \"word\", \"statistical\", \"dataset\", \"expression\", \"collection\", \"index\", \"mapping\", \"extraction\", \"translation\", \"map\", \"filter\", \"pattern\", \"accuracy\", \"method\", \"datum\", \"use\", \"propose\", \"processing\", \"data\", \"base\", \"approach\", \"experiment\", \"result\", \"learn\", \"model\", \"measure\", \"technique\", \"paper\", \"show\", \"information\", \"set\", \"computer\", \"different\", \"present\", \"performance\", \"network\", \"sensor\", \"security\", \"detection\", \"attack\", \"video\", \"wireless\", \"traffic\", \"channel\", \"protocol\", \"memory\", \"route\", \"energy\", \"motion\", \"hardware\", \"message\", \"server\", \"location\", \"delay\", \"fault\", \"packet\", \"surface\", \"secure\", \"bandwidth\", \"signature\", \"cell\", \"peer\", \"transmission\", \"interference\", \"topology\", \"scheme\", \"control\", \"communication\", \"node\", \"rate\", \"simulation\", \"power\", \"performance\", \"mobile\", \"high\", \"propose\", \"time\", \"key\", \"system\", \"use\", \"distribute\", \"low\", \"base\", \"code\", \"paper\", \"result\", \"show\", \"application\", \"datum\"], \"Freq\": [26197.0, 31765.0, 20919.0, 32555.0, 20018.0, 66302.0, 12510.0, 12468.0, 19165.0, 27438.0, 14528.0, 14526.0, 26217.0, 19203.0, 13063.0, 9857.0, 12618.0, 28158.0, 9042.0, 9118.0, 31077.0, 20165.0, 8938.0, 7589.0, 5672.0, 10628.0, 5573.0, 9422.0, 5524.0, 7334.0, 20017.83450937459, 14528.213874566685, 14525.98508411721, 13062.46727278936, 12618.085580491195, 9422.218706301594, 9043.827091199508, 8534.338694568085, 8519.462093660884, 6706.446395047556, 5330.158113350406, 4790.806757154091, 4855.5045253524595, 4830.133667269335, 4468.403986806217, 4293.4580988128, 4395.5128910480535, 4159.340323715528, 3948.5439253250224, 3626.927604665138, 3594.6132411487697, 3433.8367246864086, 3260.7104697217874, 3180.981200565124, 3092.999741829248, 2822.5975824914535, 2745.224343111951, 2621.7453248096967, 2473.315227562786, 2491.9764792898204, 7553.562024191656, 9477.39056392917, 12223.596752079278, 10902.17008533594, 47432.60496270468, 16221.421907374508, 19779.13795635236, 14035.343155416775, 9155.154200493329, 5337.938521631139, 6153.097827662688, 15897.454203938996, 25145.26872985443, 8551.809650045345, 12033.322840172612, 8898.468883251606, 18996.738683412757, 20025.59544450604, 9579.961837191933, 21059.59665758199, 8113.554918625365, 12405.003299918097, 9353.146560660292, 10362.997528055748, 7333.743494206469, 7134.562917537515, 6926.621768860613, 6717.331009618624, 6493.307552479302, 6401.037678747617, 6066.646215602479, 4496.995593413278, 4658.181526323586, 4151.945709710903, 3809.7992732232346, 3586.0738936377097, 3418.9435937232915, 3325.3085776692824, 3218.4500878733643, 3086.037561403341, 2861.8921634465564, 2797.529552841961, 2706.642996893199, 2575.931858766552, 2488.2422011054127, 2693.5140355463964, 2501.1391774824083, 2470.486263184892, 2387.598562213586, 2141.2146620585813, 2108.197285568803, 2011.4841726468944, 2061.844243175792, 1949.1962082537623, 30628.90286175251, 5505.77926045197, 5491.672789787947, 5911.105250290803, 9609.937057771427, 6855.289364811294, 15107.958370714587, 6813.187727883475, 9971.487285529962, 6650.513389981699, 3984.8616746052785, 4953.007655451543, 6767.91364692411, 15021.223750892112, 9191.694594243321, 12170.637384862977, 5451.8549820999215, 7856.0176677132185, 12778.001794702517, 7473.375974551621, 10217.63457423428, 11531.950377618638, 10716.789561861135, 12717.878692897995, 9187.00532540919, 7862.874773302237, 7850.34361937763, 6300.7071534724455, 6334.7210408973415, 20918.721285430656, 12509.659526861285, 12468.221578653309, 9041.38804408102, 7588.612848803297, 7099.865519124153, 6314.086575121907, 5708.749087113044, 5364.535147921446, 5078.720361886348, 4422.975207164414, 3968.6766860168623, 3976.1931762240565, 3952.5141220346736, 3959.388716860503, 3864.449756376962, 4061.8349658873435, 3706.0815055739067, 3501.064626408266, 3358.5692458240846, 3416.504825499529, 3346.1834889226607, 3282.9445778561467, 3057.7979483745526, 2837.3838298237833, 2608.8187822051973, 2690.9501370925423, 2333.4489952365657, 2443.276089252838, 2153.85869315347, 2298.3819300808564, 4407.293350796051, 4741.0757761182695, 7786.166226653829, 4089.438688377321, 23367.842493698725, 18327.334738175778, 28530.53946138212, 14448.620181670283, 5936.9503517090225, 6197.052833132698, 18992.434812091375, 13601.544194982122, 5941.758697042292, 12476.485307428527, 6637.912165512226, 13784.516425845384, 5353.401769206007, 7600.946886007656, 9846.694188063475, 8121.163271610187, 8074.302687679261, 7151.301551102178, 6456.012404440863, 6210.633854444206, 6850.759977951267, 6249.281477400713, 26196.324334472916, 5573.036509803812, 5523.979343124786, 5671.809317332545, 4655.275730208194, 4398.237015877725, 4073.8085580051493, 3675.0099417070064, 3592.686373997621, 3554.744638162779, 3687.52683769224, 3442.970329615791, 3298.6469616317913, 2878.4607594749773, 2869.2173126715848, 2709.6098593554416, 2489.006505561941, 2685.991198177715, 2468.7588452950454, 2427.910320225256, 2068.2904966011297, 2295.759053322301, 2047.289753805695, 2022.0314246659145, 1944.4138869171154, 1947.28241232733, 1975.5446619494576, 1857.9574056549598, 1819.9721499755037, 1855.0720609811262, 7647.6771193842815, 8138.316904192192, 6769.381900907384, 4110.7831861819, 4311.053101464049, 5252.060205789029, 3664.3604044650683, 10416.831797248355, 4406.765643977311, 6419.959176333846, 9154.0490534051, 8353.437808768296, 3827.180126891639, 10471.128585026278, 10585.915013446627, 4503.821204690548, 3892.0663230440623, 7921.998468046418, 4100.1500477219915, 6017.114686172161, 5277.884082667997, 4934.185373985583, 4702.795195710855, 3958.8051610841153], \"Total\": [26197.0, 31765.0, 20919.0, 32555.0, 20018.0, 66302.0, 12510.0, 12468.0, 19165.0, 27438.0, 14528.0, 14526.0, 26217.0, 19203.0, 13063.0, 9857.0, 12618.0, 28158.0, 9042.0, 9118.0, 31077.0, 20165.0, 8938.0, 7589.0, 5672.0, 10628.0, 5573.0, 9422.0, 5524.0, 7334.0, 20018.476540647356, 14528.837852652416, 14526.613018002781, 13063.097139056756, 12618.705878541543, 9422.866189605727, 9044.479173601074, 8534.960389354123, 8520.094409680847, 6707.1083352124515, 5330.79135188955, 4791.432037919938, 4856.142207543526, 4830.772150770676, 4469.016796219376, 4294.089958194091, 4396.170612344354, 4159.974838245238, 3949.1851878311854, 3627.5566892540883, 3595.2550486486716, 3434.4816659625503, 3261.3237731651657, 3181.604487068213, 3093.6218965147364, 2823.2296412350784, 2745.8816006559264, 2622.3790448048494, 2473.9328907247896, 2492.634927706731, 7708.778157347212, 10252.50605151542, 13504.022602580017, 12176.996083020818, 66302.66119073328, 20836.630602040663, 28158.460379814413, 19200.041430252466, 11510.088868268596, 6020.606785462468, 7354.601302033428, 26766.29683854418, 50461.934588068936, 11922.957148226287, 20055.77072149282, 12995.255592606878, 45577.337119509524, 54790.37234402146, 16631.52759537546, 72893.92982530873, 12581.940030064756, 32341.4676445711, 17651.584823077832, 28765.108984914375, 7334.41205508432, 7135.229753546742, 6927.307795067159, 6718.019876235106, 6493.991832097188, 6401.720250973695, 6067.344158442538, 4497.694651817328, 4658.936236466622, 4152.637645660122, 3810.4708666855713, 3586.770485120097, 3419.6331286619743, 3326.003319679861, 3219.129043995964, 3086.7118477321505, 2862.5702578733967, 2798.1984286947045, 2707.3161176274684, 2576.610141939903, 2488.8995857430896, 2694.2411081058963, 2501.8254792496627, 2471.1680318680355, 2388.281667724255, 2141.908872727019, 2108.8898860373765, 2012.1503206809498, 2062.5393829448, 1949.893744725954, 31765.89930064992, 5628.170013655051, 5731.329513286675, 6221.173120666294, 10628.345339942638, 7427.097655924141, 19165.354746804802, 7933.021710543529, 12903.49671587996, 8243.503260622567, 4467.680155993314, 5961.396742856027, 9016.566036679103, 26217.74912556201, 13776.417853259367, 20165.879301576897, 7134.762401951865, 12444.512876268078, 27735.833089137497, 13283.409706597376, 32479.394966283005, 50461.934588068936, 45577.337119509524, 72893.92982530873, 32555.296737267534, 28765.108984914375, 54790.37234402146, 18300.40453967461, 32341.4676445711, 20919.3432378892, 12510.316181985645, 12468.87887036803, 9042.033852336373, 7589.258384404775, 7100.508550679017, 6314.709527578176, 5709.368814352935, 5365.185223468955, 5079.342988133995, 4423.608633219931, 3969.2969563482743, 3976.820556906853, 3953.150968439927, 3960.028690896516, 3865.087972404306, 4062.505958928603, 3706.7297403968796, 3501.681885343402, 3359.188487232283, 3417.1418285809277, 3346.809954877717, 3283.5790472768545, 3058.4566455787685, 2838.01310011592, 2609.500958126369, 2691.6786420026433, 2334.0893727854077, 2443.9577086354943, 2154.4856222827566, 2299.060908089704, 4456.168434808218, 4960.205141861322, 8595.085074056215, 4304.133004933842, 32555.296737267534, 27438.072060187107, 72893.92982530873, 31077.157543500885, 8364.80811499807, 8981.0621992003, 54790.37234402146, 32341.4676445711, 8580.531187170633, 32479.394966283005, 11301.065060153525, 50461.934588068936, 7385.199673217996, 17787.87115068558, 45577.337119509524, 27735.833089137497, 28158.460379814413, 20165.879301576897, 17651.584823077832, 16672.24239651613, 28765.108984914375, 19203.923397449325, 26197.020760226107, 5573.714864936044, 5524.668502629345, 5672.590693656619, 4655.949106212623, 4398.944504440497, 4074.4747028226498, 3675.679249273455, 3593.3621362169974, 3555.4266007224105, 3688.2343585106837, 3443.64369522025, 3299.3223816756004, 2879.160177206391, 2869.9158636080097, 2710.316505764484, 2489.6816379685124, 2686.7230634486336, 2469.4337203460905, 2428.5891464862184, 2068.9527425661345, 2296.504060611926, 2047.9651495089197, 2022.7015063268186, 1945.095317624516, 1947.9656523496951, 1976.251673891774, 1858.6243819317515, 1820.652035544978, 1855.8079743509147, 9118.17785592139, 9857.306232173303, 8938.356678458938, 5051.030289535259, 5483.938093596446, 7128.790519438674, 4485.553703374679, 19203.923397449325, 6958.032922618882, 14146.333680241038, 31077.157543500885, 26217.74912556201, 5934.959458471221, 66302.66119073328, 72893.92982530873, 9149.932625806261, 6529.341770234219, 54790.37234402146, 7892.912036686781, 45577.337119509524, 32479.394966283005, 27735.833089137497, 26766.29683854418, 27438.072060187107], \"Category\": [\"Default\", \"Default\", \"Default\", \"Default\", \"Default\", \"Default\", \"Default\", \"Default\", \"Default\", \"Default\", \"Default\", \"Default\", \"Default\", \"Default\", \"Default\", \"Default\", \"Default\", \"Default\", \"Default\", \"Default\", \"Default\", \"Default\", \"Default\", \"Default\", \"Default\", \"Default\", \"Default\", \"Default\", \"Default\", \"Default\", \"Topic1\", \"Topic1\", \"Topic1\", \"Topic1\", \"Topic1\", \"Topic1\", \"Topic1\", \"Topic1\", \"Topic1\", \"Topic1\", \"Topic1\", \"Topic1\", \"Topic1\", \"Topic1\", \"Topic1\", \"Topic1\", \"Topic1\", \"Topic1\", \"Topic1\", \"Topic1\", \"Topic1\", \"Topic1\", \"Topic1\", \"Topic1\", \"Topic1\", \"Topic1\", \"Topic1\", \"Topic1\", \"Topic1\", \"Topic1\", \"Topic1\", \"Topic1\", \"Topic1\", \"Topic1\", \"Topic1\", \"Topic1\", \"Topic1\", \"Topic1\", \"Topic1\", \"Topic1\", \"Topic1\", \"Topic1\", \"Topic1\", \"Topic1\", \"Topic1\", \"Topic1\", \"Topic1\", \"Topic1\", \"Topic1\", \"Topic1\", \"Topic1\", \"Topic1\", \"Topic1\", \"Topic1\", \"Topic2\", \"Topic2\", \"Topic2\", \"Topic2\", \"Topic2\", \"Topic2\", \"Topic2\", \"Topic2\", \"Topic2\", \"Topic2\", \"Topic2\", \"Topic2\", \"Topic2\", \"Topic2\", \"Topic2\", \"Topic2\", \"Topic2\", \"Topic2\", \"Topic2\", \"Topic2\", \"Topic2\", \"Topic2\", \"Topic2\", \"Topic2\", \"Topic2\", \"Topic2\", \"Topic2\", \"Topic2\", \"Topic2\", \"Topic2\", \"Topic2\", \"Topic2\", \"Topic2\", \"Topic2\", \"Topic2\", \"Topic2\", \"Topic2\", \"Topic2\", \"Topic2\", \"Topic2\", \"Topic2\", \"Topic2\", \"Topic2\", \"Topic2\", \"Topic2\", \"Topic2\", \"Topic2\", \"Topic2\", \"Topic2\", \"Topic2\", \"Topic2\", \"Topic2\", \"Topic2\", \"Topic2\", \"Topic2\", \"Topic2\", \"Topic2\", \"Topic2\", \"Topic2\", \"Topic3\", \"Topic3\", \"Topic3\", \"Topic3\", \"Topic3\", \"Topic3\", \"Topic3\", \"Topic3\", \"Topic3\", \"Topic3\", \"Topic3\", \"Topic3\", \"Topic3\", \"Topic3\", \"Topic3\", \"Topic3\", \"Topic3\", \"Topic3\", \"Topic3\", \"Topic3\", \"Topic3\", \"Topic3\", \"Topic3\", \"Topic3\", \"Topic3\", \"Topic3\", \"Topic3\", \"Topic3\", \"Topic3\", \"Topic3\", \"Topic3\", \"Topic3\", \"Topic3\", \"Topic3\", \"Topic3\", \"Topic3\", \"Topic3\", \"Topic3\", \"Topic3\", \"Topic3\", \"Topic3\", \"Topic3\", \"Topic3\", \"Topic3\", \"Topic3\", \"Topic3\", \"Topic3\", \"Topic3\", \"Topic3\", \"Topic3\", \"Topic3\", \"Topic3\", \"Topic3\", \"Topic3\", \"Topic3\", \"Topic3\", \"Topic3\", \"Topic4\", \"Topic4\", \"Topic4\", \"Topic4\", \"Topic4\", \"Topic4\", \"Topic4\", \"Topic4\", \"Topic4\", \"Topic4\", \"Topic4\", \"Topic4\", \"Topic4\", \"Topic4\", \"Topic4\", \"Topic4\", \"Topic4\", \"Topic4\", \"Topic4\", \"Topic4\", \"Topic4\", \"Topic4\", \"Topic4\", \"Topic4\", \"Topic4\", \"Topic4\", \"Topic4\", \"Topic4\", \"Topic4\", \"Topic4\", \"Topic4\", \"Topic4\", \"Topic4\", \"Topic4\", \"Topic4\", \"Topic4\", \"Topic4\", \"Topic4\", \"Topic4\", \"Topic4\", \"Topic4\", \"Topic4\", \"Topic4\", \"Topic4\", \"Topic4\", \"Topic4\", \"Topic4\", \"Topic4\", \"Topic4\", \"Topic4\", \"Topic4\", \"Topic4\", \"Topic4\", \"Topic4\"], \"logprob\": [30.0, 29.0, 28.0, 27.0, 26.0, 25.0, 24.0, 23.0, 22.0, 21.0, 20.0, 19.0, 18.0, 17.0, 16.0, 15.0, 14.0, 13.0, 12.0, 11.0, 10.0, 9.0, 8.0, 7.0, 6.0, 5.0, 4.0, 3.0, 2.0, 1.0, -4.5534, -4.874, -4.8741, -4.9803, -5.0149, -5.307, -5.348, -5.4059, -5.4077, -5.647, -5.8767, -5.9833, -5.9699, -5.9752, -6.053, -6.093, -6.0695, -6.1247, -6.1767, -6.2617, -6.2706, -6.3164, -6.3681, -6.3929, -6.4209, -6.5124, -6.5402, -6.5862, -6.6445, -6.637, -5.528, -5.3011, -5.0467, -5.1611, -3.6907, -4.7637, -4.5654, -4.9085, -5.3357, -5.8752, -5.7331, -4.7839, -4.3254, -5.4039, -5.0624, -5.3642, -4.6058, -4.553, -5.2904, -4.5027, -5.4565, -5.0319, -5.3143, -5.2118, -5.2655, -5.293, -5.3226, -5.3532, -5.3872, -5.4015, -5.4551, -5.7545, -5.7193, -5.8344, -5.9204, -5.9809, -6.0286, -6.0564, -6.089, -6.1311, -6.2065, -6.2292, -6.2622, -6.3117, -6.3464, -6.2671, -6.3412, -6.3535, -6.3877, -6.4966, -6.5121, -6.5591, -6.5343, -6.5905, -3.836, -5.5521, -5.5547, -5.4811, -4.9951, -5.3329, -4.5427, -5.3391, -4.9582, -5.3632, -5.8754, -5.6579, -5.3457, -4.5485, -5.0396, -4.7589, -5.562, -5.1967, -4.7102, -5.2466, -4.9338, -4.8128, -4.8861, -4.7149, -5.0401, -5.1958, -5.1974, -5.4173, -5.4119, -4.1766, -4.6908, -4.6941, -5.0155, -5.1906, -5.2572, -5.3745, -5.4753, -5.5375, -5.5922, -5.7305, -5.8389, -5.837, -5.8429, -5.8412, -5.8655, -5.8157, -5.9073, -5.9642, -6.0058, -5.9887, -6.0095, -6.0285, -6.0996, -6.1744, -6.2584, -6.2274, -6.3699, -6.3239, -6.45, -6.3851, -5.734, -5.661, -5.1649, -5.8089, -4.0659, -4.3089, -3.8663, -4.5467, -5.4361, -5.3932, -4.2732, -4.6071, -5.4353, -4.6934, -5.3245, -4.5937, -5.5396, -5.189, -4.9302, -5.1228, -5.1286, -5.25, -5.3523, -5.391, -5.2929, -5.3848, -3.5401, -5.0878, -5.0966, -5.0702, -5.2677, -5.3245, -5.4011, -5.5041, -5.5268, -5.5374, -5.5007, -5.5694, -5.6122, -5.7484, -5.7517, -5.8089, -5.8938, -5.8176, -5.902, -5.9187, -6.079, -5.9746, -6.0892, -6.1016, -6.1407, -6.1393, -6.1249, -6.1862, -6.2069, -6.1878, -4.7713, -4.7091, -4.8933, -5.3921, -5.3445, -5.1471, -5.507, -4.4623, -5.3226, -4.9463, -4.5915, -4.683, -5.4636, -4.4571, -4.4462, -5.3008, -5.4468, -4.7361, -5.3947, -5.0111, -5.1422, -5.2095, -5.2575, -5.4298], \"loglift\": [30.0, 29.0, 28.0, 27.0, 26.0, 25.0, 24.0, 23.0, 22.0, 21.0, 20.0, 19.0, 18.0, 17.0, 16.0, 15.0, 14.0, 13.0, 12.0, 11.0, 10.0, 9.0, 8.0, 7.0, 6.0, 5.0, 4.0, 3.0, 2.0, 1.0, 1.0779, 1.0779, 1.0779, 1.0779, 1.0779, 1.0779, 1.0779, 1.0779, 1.0779, 1.0779, 1.0778, 1.0778, 1.0778, 1.0778, 1.0778, 1.0778, 1.0778, 1.0778, 1.0778, 1.0778, 1.0778, 1.0778, 1.0778, 1.0778, 1.0778, 1.0777, 1.0777, 1.0777, 1.0777, 1.0777, 1.0576, 0.9993, 0.9783, 0.9674, 0.743, 0.8276, 0.7247, 0.7646, 0.8491, 0.9576, 0.8996, 0.557, 0.3814, 0.7456, 0.5671, 0.6993, 0.2028, 0.0715, 0.5263, -0.1637, 0.6392, 0.1197, 0.4428, 0.057, 1.37, 1.37, 1.37, 1.37, 1.37, 1.37, 1.37, 1.3699, 1.3699, 1.3699, 1.3699, 1.3699, 1.3699, 1.3699, 1.3699, 1.3698, 1.3698, 1.3698, 1.3698, 1.3698, 1.3698, 1.3698, 1.3698, 1.3698, 1.3698, 1.3697, 1.3697, 1.3697, 1.3697, 1.3697, 1.3336, 1.3481, 1.3274, 1.3189, 1.2693, 1.29, 1.1322, 1.2179, 1.1123, 1.1553, 1.2557, 1.1848, 1.0832, 0.8131, 0.9654, 0.8651, 1.101, 0.9101, 0.5951, 0.7949, 0.2136, -0.106, -0.0775, -0.3759, 0.1049, 0.0731, -0.5729, 0.3038, -0.2602, 1.4107, 1.4107, 1.4107, 1.4106, 1.4106, 1.4106, 1.4106, 1.4106, 1.4106, 1.4106, 1.4106, 1.4106, 1.4106, 1.4106, 1.4106, 1.4106, 1.4106, 1.4105, 1.4105, 1.4105, 1.4105, 1.4105, 1.4105, 1.4105, 1.4105, 1.4105, 1.4104, 1.4104, 1.4104, 1.4104, 1.4104, 1.3997, 1.3655, 1.3119, 1.3595, 1.0791, 1.0072, 0.4727, 0.6448, 1.0679, 1.0397, 0.3512, 0.5446, 1.0432, 0.454, 0.8786, 0.113, 1.089, 0.5605, -0.1216, 0.1825, 0.1616, 0.374, 0.4049, 0.4232, -0.0241, 0.2881, 1.8223, 1.8222, 1.8222, 1.8222, 1.8222, 1.8221, 1.8221, 1.8221, 1.8221, 1.8221, 1.8221, 1.8221, 1.8221, 1.8221, 1.8221, 1.822, 1.822, 1.822, 1.822, 1.822, 1.822, 1.822, 1.822, 1.822, 1.822, 1.822, 1.8219, 1.8219, 1.8219, 1.8219, 1.6464, 1.6307, 1.5444, 1.6163, 1.5817, 1.5168, 1.6201, 1.2106, 1.3656, 1.0323, 0.6, 0.6785, 1.3836, -0.0233, -0.1072, 1.1135, 1.3049, -0.1116, 1.1674, -0.2025, 0.0052, 0.0958, 0.0833, -0.1137]}, \"token.table\": {\"Topic\": [3, 4, 1, 1, 2, 3, 1, 2, 3, 4, 1, 2, 3, 2, 2, 4, 3, 4, 1, 2, 3, 4, 2, 2, 1, 1, 2, 3, 4, 4, 2, 2, 3, 3, 3, 1, 2, 3, 4, 3, 1, 4, 1, 1, 2, 2, 4, 1, 3, 4, 1, 2, 1, 2, 3, 2, 4, 1, 3, 4, 3, 3, 1, 3, 4, 4, 1, 2, 3, 1, 2, 4, 4, 1, 2, 3, 4, 1, 1, 2, 3, 4, 2, 1, 2, 4, 3, 1, 4, 1, 1, 4, 2, 1, 1, 2, 3, 4, 3, 3, 3, 4, 3, 3, 4, 2, 2, 3, 4, 2, 1, 2, 2, 1, 2, 3, 2, 4, 2, 1, 2, 3, 4, 3, 3, 1, 3, 4, 1, 1, 1, 4, 1, 2, 3, 4, 1, 2, 3, 4, 1, 2, 3, 1, 3, 1, 2, 3, 4, 2, 1, 2, 3, 4, 1, 3, 4, 3, 2, 1, 2, 3, 4, 4, 4, 2, 3, 3, 1, 4, 1, 2, 3, 4, 4, 1, 2, 3, 4, 2, 4, 1, 2, 3, 4, 2, 3, 1, 2, 2, 2, 1, 2, 3, 4, 1, 1, 4, 1, 2, 3, 4, 2, 2, 1, 3, 4, 1, 2, 3, 4, 1, 2, 2, 4, 3, 1, 2, 3, 4, 2, 3, 1, 2, 3, 2, 3, 4, 1, 2, 2, 1, 2, 2, 3, 4, 1, 2, 3, 4, 4, 2, 4, 1, 2, 3, 4, 3, 3, 4, 3, 1, 1, 3, 1, 1, 2, 3, 4, 1, 4, 2, 3, 2, 2, 3, 4, 4, 4, 3, 4, 4, 1, 1, 2, 3, 3, 1, 2, 3, 4, 4, 3, 1, 2, 4, 1, 1, 1, 2, 4, 2, 3, 3, 1, 1, 2, 3, 4, 1, 3, 4, 1, 2, 3, 4, 1, 2, 3, 1, 2, 3, 4, 1, 3, 1, 2, 1, 2, 3, 4, 1, 2, 3, 4, 4, 3, 3, 4, 2, 3, 1, 2, 3, 4, 1, 2, 2, 4, 3, 3, 1, 4, 3], \"Freq\": [0.9500171103710702, 0.04971965312286843, 0.999929059650784, 0.9999440609402948, 0.7882974356380629, 0.21168405456603262, 0.5939185422582588, 0.1436881621390994, 0.08667616644896271, 0.17570603914201363, 0.38356329825008195, 0.19587855658317363, 0.4205746056265711, 0.9995780310564016, 0.9999290869822992, 0.999796151935734, 0.9998754564464106, 0.9996531834654672, 0.3655021702400453, 0.14327334646880832, 0.34663024154593725, 0.14458744595234388, 0.9998832357900838, 0.9998764282152928, 0.9997724787652987, 0.4303112021878746, 0.5625814580038466, 0.007076496327092409, 0.999504276500702, 0.9998992207845272, 0.9996492703521563, 0.9995416443955618, 0.9998876389206698, 0.9999438890574317, 0.9999659539322965, 0.03167398785619089, 0.4032732133850224, 0.04561054251291488, 0.5194534008415306, 0.9997478740619131, 0.24266205500919405, 0.7572980407363922, 0.9998100055897362, 0.04982983016019954, 0.9501423421836758, 0.9582418856337175, 0.04170062102448261, 0.5298674364792337, 0.3657461958633522, 0.10435323618034306, 0.9996789371196064, 0.9999555678661517, 0.83661911058303, 0.052484150281984325, 0.1108149805176612, 0.1742869663917524, 0.8255805194971368, 0.19685867448478733, 0.6900074693338388, 0.1131269305862805, 0.9998856615277871, 0.9996430248627539, 0.18776829467824013, 0.6679405156382195, 0.14428856339890386, 0.9998243644514461, 0.6847114269196949, 0.14605330279766024, 0.16921560213490772, 0.7309880059886648, 0.0792185790601182, 0.18979125713022402, 0.9998958688034235, 0.717271721577246, 0.12194961215777779, 0.10567848096203578, 0.05518765116906312, 0.9998874758276183, 0.4261574316772576, 0.10472496491322897, 0.37253537060484826, 0.09656769387760518, 0.9996700492274504, 0.44513988972034657, 0.0626234119346326, 0.4922440616991016, 0.9999654767801595, 0.9998554576594866, 0.9999022885191847, 0.999970715943346, 0.8952946954792382, 0.10462350413140245, 0.9997631997445126, 0.9998465387858066, 0.14113345358043253, 0.0963809794475786, 0.6924979200453593, 0.07004228373397188, 0.9998080253142622, 0.9997402314536558, 0.9997745994321178, 0.9997574120402083, 0.999974726299396, 0.955807242726444, 0.04415139973783827, 0.999428312751226, 0.9041859003098469, 0.059369542465714194, 0.036412064871999036, 0.999814854799286, 0.9998597558498205, 0.9998820626025559, 0.9998007881651714, 0.08532570854573328, 0.7727362760304327, 0.14189952075135115, 0.999943818934466, 0.9996808744048481, 0.9995273361208252, 0.17347250923591861, 0.10539833385116326, 0.26727773326039456, 0.453827835898369, 0.9999835923200219, 0.9995332771751976, 0.7024176653556923, 0.2867344269215764, 0.010831558113832152, 0.9998515507666099, 0.9997452785004038, 0.999765662465966, 0.9996418670167346, 0.8866215964957701, 0.005148982669795593, 0.050161056976718355, 0.05796757908898909, 0.28509040572887756, 0.05004246483538809, 0.020050684563674013, 0.6448232758418525, 0.7953891672581969, 0.04283198901783627, 0.16177112282192926, 0.4126159769171927, 0.5873782660897116, 0.9999186600934886, 0.8919617924425931, 0.10788596837072267, 0.9997308753334236, 0.9999678001193124, 0.009648752082055597, 0.20139855536354143, 0.19282188684615867, 0.5960784619581013, 0.9998715495828775, 0.9889662081836603, 0.010771585657548377, 0.9996081320752358, 0.999910509825876, 0.12917727918171615, 0.08219141348354476, 0.7248280665196295, 0.06377620387273408, 0.9999364578039508, 0.9998832218437179, 0.2821967827276236, 0.7177941024032991, 0.9997936650912176, 0.3666266067392863, 0.6333686616621069, 0.498296393217259, 0.22852869383899108, 0.27317620920659835, 0.9995970431879492, 0.9999610352552891, 0.29627760349479165, 0.3443093285910517, 0.24584155996367904, 0.11354940244599356, 0.18610064603007728, 0.8138933572655827, 0.06126411154118106, 0.6672271484437634, 0.11824554229927008, 0.15330545447271848, 0.9997384859900083, 0.9999295148844441, 0.9999098311493267, 0.9997851869465043, 0.9998464480374809, 0.9998472692724548, 0.19478464316772207, 0.6312822428736075, 0.11041010714209988, 0.06356215047263537, 0.9996229118710992, 0.999840159968929, 0.9995395049164086, 0.4168080278623446, 0.23513879215669567, 0.21605035797023253, 0.1320173660918949, 0.9999432769209146, 0.9997990450139038, 0.0941235593399676, 0.9058665426711839, 0.9998726508900162, 0.0679548638573163, 0.06420562998932644, 0.3254022561259537, 0.5424412389284781, 0.9999531073316703, 0.9996385608530602, 0.18303202999940135, 0.8168445285235159, 0.9999618106059869, 0.3602628450125042, 0.2733519975232385, 0.23817048645958375, 0.12821088221616478, 0.9642100703685522, 0.03579309967707218, 0.7784847900702033, 0.09555287695146876, 0.1259320688702431, 0.013030783073740018, 0.7097592578788485, 0.2772328986055331, 0.1410559608721066, 0.8588152470256141, 0.9998874910265587, 0.9997461724824811, 0.9997693831600531, 0.9229715721500156, 0.022215945937965366, 0.05466469121705417, 0.08437065057606385, 0.15612753493328063, 0.4649395614696974, 0.2945571835901177, 0.9998800141951113, 0.9782931195470922, 0.021676672826869824, 0.5999769426514636, 0.15187648693728564, 0.09099625366400076, 0.15711188783302266, 0.9999283782738394, 0.21371503105925568, 0.7861139069082349, 0.9999354019043212, 0.9998347521529312, 0.9799218301282034, 0.020106947798500335, 0.9999470203212505, 0.1387649001675904, 0.314599456381726, 0.38412045584443266, 0.16250302708776176, 0.9999611906908539, 0.9998130772875419, 0.7641459789198433, 0.23574716370931334, 0.9995756716176902, 0.11592228367354984, 0.04529413732940027, 0.8387640733541242, 0.9995287275717797, 0.9998789967888522, 0.9998052691918543, 0.9998717435402839, 0.9997262148066977, 0.9999423317500744, 0.04185287372686012, 0.6035442252720551, 0.3546088862805411, 0.9998624125074356, 0.06857554968287223, 0.4607036665866148, 0.29279812774690084, 0.1778926194191859, 0.9994368822881885, 0.9997579919718668, 0.13284160860355418, 0.13031663610633773, 0.7367308641878211, 0.9997989746208362, 0.999957800348779, 0.18443828761803208, 0.7506183587485514, 0.06488057622161682, 0.999848187969983, 0.9999251866636485, 0.9998506941141609, 0.9999007233909648, 0.5760144367414453, 0.2421304944423591, 0.12692760709407006, 0.05495586588535292, 0.9052117550265755, 0.09478657120697125, 0.999780509592571, 0.7154011490360724, 0.08412935317865647, 0.042547311817316226, 0.15792729600819502, 0.6448925984873128, 0.01645215280834037, 0.3386600150547745, 0.13143787585339514, 0.25770368815738376, 0.4273136417286811, 0.18349581983981253, 0.9999080757820075, 0.9999324739174345, 0.19324308484348113, 0.8068171734425568, 0.07239370515409621, 0.5729324789882398, 0.03604428417840934, 0.31860095845741077, 0.9243593666154635, 0.06632524736715366, 0.00926602720570529, 0.9995646239470454, 0.9998152044214442, 0.9999584949680047, 0.9995385472016114, 0.9996640623367361, 0.8308455574501962, 0.16908789055315926, 0.2889129458443326, 0.17447268970789276, 0.3914043332328895, 0.14522471247426896, 0.9999761949593722, 0.9998455538067602, 0.9996983407461069, 0.9997852883937172, 0.9998031309407517, 0.9997185129000753, 0.9999160123326745, 0.9998834934912417, 0.9998236536204802], \"Term\": [\"accuracy\", \"accuracy\", \"activity\", \"agent\", \"algorithm\", \"algorithm\", \"application\", \"application\", \"application\", \"application\", \"approach\", \"approach\", \"approach\", \"approximate\", \"approximation\", \"attack\", \"automatic\", \"bandwidth\", \"base\", \"base\", \"base\", \"base\", \"bind\", \"bound\", \"business\", \"case\", \"case\", \"case\", \"cell\", \"channel\", \"check\", \"classical\", \"classification\", \"classifier\", \"cluster\", \"code\", \"code\", \"code\", \"code\", \"collection\", \"communication\", \"communication\", \"community\", \"complexity\", \"complexity\", \"computation\", \"computation\", \"computer\", \"computer\", \"computer\", \"conceptual\", \"constraint\", \"context\", \"context\", \"context\", \"control\", \"control\", \"data\", \"data\", \"data\", \"database\", \"dataset\", \"datum\", \"datum\", \"datum\", \"delay\", \"describe\", \"describe\", \"describe\", \"design\", \"design\", \"design\", \"detection\", \"develop\", \"develop\", \"develop\", \"develop\", \"development\", \"different\", \"different\", \"different\", \"different\", \"discrete\", \"distribute\", \"distribute\", \"distribute\", \"document\", \"electronic\", \"energy\", \"engineering\", \"environment\", \"environment\", \"evolutionary\", \"experience\", \"experiment\", \"experiment\", \"experiment\", \"experiment\", \"expression\", \"extract\", \"extraction\", \"fault\", \"feature\", \"filter\", \"filter\", \"finite\", \"function\", \"function\", \"function\", \"fuzzy\", \"game\", \"generalize\", \"genetic\", \"give\", \"give\", \"give\", \"graph\", \"hardware\", \"heuristic\", \"high\", \"high\", \"high\", \"high\", \"image\", \"index\", \"information\", \"information\", \"information\", \"interaction\", \"interactive\", \"interface\", \"interference\", \"issue\", \"issue\", \"issue\", \"issue\", \"key\", \"key\", \"key\", \"key\", \"knowledge\", \"knowledge\", \"knowledge\", \"learn\", \"learn\", \"library\", \"linear\", \"linear\", \"location\", \"logic\", \"low\", \"low\", \"low\", \"low\", \"management\", \"map\", \"map\", \"mapping\", \"maximum\", \"measure\", \"measure\", \"measure\", \"measure\", \"memory\", \"message\", \"method\", \"method\", \"mining\", \"mobile\", \"mobile\", \"model\", \"model\", \"model\", \"motion\", \"network\", \"new\", \"new\", \"new\", \"new\", \"node\", \"node\", \"number\", \"number\", \"number\", \"number\", \"numerical\", \"object\", \"ontology\", \"operator\", \"optimal\", \"optimization\", \"order\", \"order\", \"order\", \"order\", \"organization\", \"orient\", \"packet\", \"paper\", \"paper\", \"paper\", \"paper\", \"parallel\", \"path\", \"pattern\", \"pattern\", \"peer\", \"performance\", \"performance\", \"performance\", \"performance\", \"platform\", \"polynomial\", \"power\", \"power\", \"prediction\", \"present\", \"present\", \"present\", \"present\", \"problem\", \"problem\", \"process\", \"process\", \"process\", \"processing\", \"processing\", \"processing\", \"program\", \"program\", \"programming\", \"project\", \"proof\", \"property\", \"property\", \"property\", \"propose\", \"propose\", \"propose\", \"propose\", \"protocol\", \"prove\", \"prove\", \"provide\", \"provide\", \"provide\", \"provide\", \"query\", \"rate\", \"rate\", \"recognition\", \"requirement\", \"research\", \"research\", \"resource\", \"result\", \"result\", \"result\", \"result\", \"robot\", \"route\", \"rule\", \"rule\", \"scheduling\", \"scheme\", \"scheme\", \"scheme\", \"secure\", \"security\", \"segmentation\", \"sensor\", \"server\", \"service\", \"set\", \"set\", \"set\", \"shape\", \"show\", \"show\", \"show\", \"show\", \"signature\", \"similarity\", \"simulation\", \"simulation\", \"simulation\", \"social\", \"software\", \"solution\", \"solution\", \"solution\", \"solve\", \"speech\", \"statistical\", \"student\", \"study\", \"study\", \"study\", \"study\", \"support\", \"support\", \"surface\", \"system\", \"system\", \"system\", \"system\", \"task\", \"task\", \"task\", \"technique\", \"technique\", \"technique\", \"technique\", \"technology\", \"text\", \"theory\", \"theory\", \"time\", \"time\", \"time\", \"time\", \"tool\", \"tool\", \"tool\", \"topology\", \"traffic\", \"training\", \"translation\", \"transmission\", \"tree\", \"tree\", \"use\", \"use\", \"use\", \"use\", \"user\", \"variable\", \"verification\", \"video\", \"vision\", \"visual\", \"web\", \"wireless\", \"word\"]}, \"R\": 30, \"lambda.step\": 0.01, \"plot.opts\": {\"xlab\": \"PC1\", \"ylab\": \"PC2\"}, \"topic.order\": [3, 1, 4, 2]};\n",
              "\n",
              "function LDAvis_load_lib(url, callback){\n",
              "  var s = document.createElement('script');\n",
              "  s.src = url;\n",
              "  s.async = true;\n",
              "  s.onreadystatechange = s.onload = callback;\n",
              "  s.onerror = function(){console.warn(\"failed to load library \" + url);};\n",
              "  document.getElementsByTagName(\"head\")[0].appendChild(s);\n",
              "}\n",
              "\n",
              "if(typeof(LDAvis) !== \"undefined\"){\n",
              "   // already loaded: just create the visualization\n",
              "   !function(LDAvis){\n",
              "       new LDAvis(\"#\" + \"ldavis_el1741402064662729766040482026\", ldavis_el1741402064662729766040482026_data);\n",
              "   }(LDAvis);\n",
              "}else if(typeof define === \"function\" && define.amd){\n",
              "   // require.js is available: use it to load d3/LDAvis\n",
              "   require.config({paths: {d3: \"https://d3js.org/d3.v5\"}});\n",
              "   require([\"d3\"], function(d3){\n",
              "      window.d3 = d3;\n",
              "      LDAvis_load_lib(\"https://cdn.jsdelivr.net/gh/bmabey/pyLDAvis@3.3.1/pyLDAvis/js/ldavis.v3.0.0.js\", function(){\n",
              "        new LDAvis(\"#\" + \"ldavis_el1741402064662729766040482026\", ldavis_el1741402064662729766040482026_data);\n",
              "      });\n",
              "    });\n",
              "}else{\n",
              "    // require.js not available: dynamically load d3 & LDAvis\n",
              "    LDAvis_load_lib(\"https://d3js.org/d3.v5.js\", function(){\n",
              "         LDAvis_load_lib(\"https://cdn.jsdelivr.net/gh/bmabey/pyLDAvis@3.3.1/pyLDAvis/js/ldavis.v3.0.0.js\", function(){\n",
              "                 new LDAvis(\"#\" + \"ldavis_el1741402064662729766040482026\", ldavis_el1741402064662729766040482026_data);\n",
              "            })\n",
              "         });\n",
              "}\n",
              "</script>"
            ],
            "text/plain": [
              "PreparedData(topic_coordinates=              x         y  topics  cluster       Freq\n",
              "topic                                                \n",
              "2     -0.081971  0.220259       1        1  34.028941\n",
              "0     -0.111053 -0.170716       2        1  25.409005\n",
              "3     -0.084243 -0.035498       3        1  24.396824\n",
              "1      0.277267 -0.014045       4        1  16.165231, topic_info=            Term          Freq         Total Category  logprob  loglift\n",
              "110      network  26197.000000  26197.000000  Default  30.0000  30.0000\n",
              "172      problem  31765.000000  31765.000000  Default  29.0000  29.0000\n",
              "390        image  20919.000000  20919.000000  Default  28.0000  28.0000\n",
              "44        method  32555.000000  32555.000000  Default  27.0000  27.0000\n",
              "208         user  20018.000000  20018.000000  Default  26.0000  26.0000\n",
              "..           ...           ...           ...      ...      ...      ...\n",
              "50         paper   6017.114686  45577.337120   Topic4  -5.0111  -0.2025\n",
              "116       result   5277.884083  32479.394966   Topic4  -5.1422   0.0052\n",
              "117         show   4934.185374  27735.833089   Topic4  -5.2095   0.0958\n",
              "152  application   4702.795196  26766.296839   Topic4  -5.2575   0.0833\n",
              "17         datum   3958.805161  27438.072060   Topic4  -5.4298  -0.1137\n",
              "\n",
              "[254 rows x 6 columns], token_table=      Topic      Freq       Term\n",
              "term                            \n",
              "0         3  0.950017   accuracy\n",
              "0         4  0.049720   accuracy\n",
              "1247      1  0.999929   activity\n",
              "718       1  0.999944      agent\n",
              "473       2  0.788297  algorithm\n",
              "...     ...       ...        ...\n",
              "467       3  0.999803     vision\n",
              "87        3  0.999719     visual\n",
              "266       1  0.999916        web\n",
              "703       4  0.999883   wireless\n",
              "332       3  0.999824       word\n",
              "\n",
              "[344 rows x 3 columns], R=30, lambda_step=0.01, plot_opts={'xlab': 'PC1', 'ylab': 'PC2'}, topic_order=[3, 1, 4, 2])"
            ]
          },
          "execution_count": 28,
          "metadata": {},
          "output_type": "execute_result"
        }
      ]
    },
    {
      "cell_type": "code",
      "metadata": {
        "id": "jefzBNveugL9"
      },
      "source": [
        "vector = [None]*100000\n",
        "for j in range(100000):\n",
        "  z=reslt[j]\n",
        "  tdc = id2word2[z].doc2bow(dtst[j])\n",
        "  vtr = lda_model2[z][tdc]\n",
        "  vector[j] = vtr[0]"
      ],
      "execution_count": null,
      "outputs": []
    },
    {
      "cell_type": "code",
      "metadata": {
        "id": "DhBeD39gR59w"
      },
      "source": [
        "reslt2 = [max(vector[k], key= lambda i : i[1])[0] for k in range(len(vector))]"
      ],
      "execution_count": null,
      "outputs": []
    },
    {
      "cell_type": "code",
      "metadata": {
        "colab": {
          "base_uri": "https://localhost:8080/"
        },
        "id": "9LKaZ_8LWGAq",
        "outputId": "9a8946b5-d69d-4343-81eb-905e372d2ad1"
      },
      "source": [
        "print(reslt2[0:100])"
      ],
      "execution_count": null,
      "outputs": [
        {
          "output_type": "stream",
          "name": "stdout",
          "text": [
            "[3, 2, 2, 3, 3, 2, 3, 1, 1, 2, 1, 3, 3, 3, 0, 2, 3, 0, 1, 0, 3, 2, 3, 2, 2, 3, 3, 3, 3, 2, 3, 1, 3, 3, 2, 3, 2, 2, 2, 3, 1, 3, 1, 0, 0, 2, 3, 2, 2, 3, 0, 3, 2, 2, 2, 3, 1, 2, 3, 2, 1, 3, 2, 3, 3, 0, 3, 1, 3, 2, 3, 3, 0, 3, 2, 2, 3, 2, 3, 0, 1, 1, 3, 0, 0, 1, 2, 3, 3, 3, 1, 3, 3, 2, 3, 3, 3, 3, 0, 3]\n"
          ]
        }
      ]
    },
    {
      "cell_type": "code",
      "metadata": {
        "id": "yzAYZ1-GX9zV"
      },
      "source": [
        "fin_res = branches*np.array(reslt) + np.array(reslt2)"
      ],
      "execution_count": null,
      "outputs": []
    },
    {
      "cell_type": "code",
      "metadata": {
        "colab": {
          "base_uri": "https://localhost:8080/"
        },
        "id": "rJu49l0QWuiS",
        "outputId": "4418fb27-511d-497f-b206-74288eec779f"
      },
      "source": [
        "print(fin_res[0:100])"
      ],
      "execution_count": null,
      "outputs": [
        {
          "output_type": "stream",
          "name": "stdout",
          "text": [
            "[11 14  2  3 11 10 11  9 13  2  5 15  3 11 12 14 11 12  9 12  3  2 11 14\n",
            "  2 11 15 15 11  2 11  1 11 11  6 11  2 10 10 11  1 11  9  8 12  2 11 14\n",
            " 10 11  0 11 14 14 14 11 13 10 11 14  1 11  6 11 11  8  3  9 15 14 11 11\n",
            " 12 11 14 14  3 14  3  4  1  1 11  4 12 13 14 11 11  7  9 11 11 14 11 11\n",
            "  3  3  4 11]\n"
          ]
        }
      ]
    },
    {
      "cell_type": "code",
      "metadata": {
        "id": "kQ6z7uFMovPH"
      },
      "source": [
        "df = [None]*branches2\n",
        "dfr = [None]*branches"
      ],
      "execution_count": null,
      "outputs": []
    },
    {
      "cell_type": "code",
      "metadata": {
        "colab": {
          "base_uri": "https://localhost:8080/"
        },
        "id": "lipnBXh2s1wh",
        "outputId": "4d4fc78b-c97e-42a2-e5a9-8ebbcbf68e74"
      },
      "source": [
        "for j in range(branches):\n",
        "  print()\n",
        "  dfr[j]=pd.DataFrame()\n",
        "  print(\"Section: \"+str(j+1))\n",
        "  for i in range(100000):\n",
        "    if reslt[i]==j:\n",
        "      dfr[j]=dfr[j].append(dataset.iloc[[i]])\n",
        "  print(dfr[j].head(10))"
      ],
      "execution_count": null,
      "outputs": [
        {
          "output_type": "stream",
          "name": "stdout",
          "text": [
            "\n",
            "Section: 1\n",
            "                                             abstract  ...                                    id\n",
            "2   Recently, Bridges and Reich introduced the con...  ...  00bcf2d5-1592-46b0-81fd-933f90b5ecca\n",
            "3   Most applications of the abstract interpretati...  ...  00c85316-bddf-4bcb-93f5-097adadd73c2\n",
            "9                                                      ...  01546472-0ac9-47fa-acca-ffcb7fc99097\n",
            "12  In system operations the term rollback is ofte...  ...  01705f09-d395-4a0f-a89f-8d18382c81cc\n",
            "20                                                     ...  02d48327-6f23-4906-b2fb-c1ff66bf6b74\n",
            "21  We discuss traveling wave solutions to the Yuk...  ...  034261a4-1e9b-463f-9549-c0b890af6a41\n",
            "24                                                     ...  03bec38d-39fb-4bc8-be7b-9622e86ff5ff\n",
            "29                                                     ...  04a259d4-1c49-4192-a1ec-c20b1fab56ec\n",
            "31  We study a hypergraph transversal computation:...  ...  05440797-8533-4496-b6ea-c414a4379fea\n",
            "36                                                     ...  062b0f9f-b8bb-44aa-995d-893e47fc6187\n",
            "\n",
            "[10 rows x 8 columns]\n",
            "\n",
            "Section: 2\n",
            "                                              abstract  ...                                    id\n",
            "10   Spatial encryption is a generic public-key cry...  ...  016a9a21-e882-4cda-a2b1-b2b46f10601e\n",
            "34                                                      ...  05a244dd-3c1b-4131-99d0-3085a1c9cbf7\n",
            "62   Channel correlation has the effect to reduce t...  ...  0b81095f-be4e-433e-8355-265e214eb25a\n",
            "79                                                      ...  0e25e5c5-b837-4b36-b651-f6bd83dbd84e\n",
            "83   Accurately locating users in a wireless enviro...  ...  0eb354cc-0423-4717-985b-4066e2605c47\n",
            "89   Nous considerons dans cet article des reseaux ...  ...  0f7b2021-2491-45de-bcb9-ad0bf498c591\n",
            "98                                                      ...  11758d7c-f829-46a0-ae42-a0815201c5ba\n",
            "120                                                     ...  16f60c39-a919-4d9b-9574-4d774f2e8cee\n",
            "123  A queueing system of the M/M/1/(∞,V) type with...  ...  17664585-99f0-47bd-bf12-d8408e48a526\n",
            "129                                                     ...  17f2ce8a-8d80-453a-9dec-b4b9f6631f99\n",
            "\n",
            "[10 rows x 8 columns]\n",
            "\n",
            "Section: 3\n",
            "                                             abstract  ...                                    id\n",
            "0   This paper describes the design and implementa...  ...  001c58d3-26ad-46b3-ab3a-c1e557d16821\n",
            "4   This paper focuses on knowledge engineering fo...  ...  00dd5ece-1339-4cb6-a08e-43742ae2dac6\n",
            "5                                                      ...  00e3940b-201b-40ba-bd20-dbdaf26ad324\n",
            "6   Xax is a browser plugin model that enables dev...  ...  010d4ce9-0279-4166-ae73-14551ded6404\n",
            "7   In recent years, most of mobile phones have a ...  ...  010d9907-45ef-459a-a293-8e1f41cef2b7\n",
            "13  Business strategy should be well understood in...  ...  01b6f2ca-3903-4196-a932-47a4be4c00bf\n",
            "16                                                     ...  029385b7-b9fc-4c62-b0b4-f6ce31a99a9b\n",
            "18                                                     ...  02ad7019-1c4c-4a23-85ac-086e4cfcfcb2\n",
            "22                                                     ...  038a0eb8-5350-4cf6-b86b-1effa9ad405f\n",
            "25  The paper discusses the design principles and ...  ...  03cda805-9746-48bb-a04d-02c2dac201c7\n",
            "\n",
            "[10 rows x 8 columns]\n",
            "\n",
            "Section: 4\n",
            "                                             abstract  ...                                    id\n",
            "1   This article applied GARCH model instead AR or...  ...  001c8744-73c4-4b04-9364-22d31a10dbf1\n",
            "8   Previous language modeling approaches to infor...  ...  012b88ae-a763-45d6-8f19-2ec9ff739d5f\n",
            "11                                                     ...  016eba4d-f912-4927-874b-b0679bea78d2\n",
            "14                                                     ...  022a8af2-f75a-4b5e-8163-90b986cb33f7\n",
            "15  Breast cancer is the most common form of cance...  ...  0265aea8-65f3-4f46-b8b1-6b65bcb1d38f\n",
            "17                                                     ...  02a58862-0024-4e20-9993-35a8706681b3\n",
            "19                                                     ...  02b94941-769d-479c-8746-b1d8be9e6b52\n",
            "23  In this paper, we investigate the multi-layer ...  ...  03990c4b-45be-4913-80d6-27d3b3381b36\n",
            "26  We focus on covariance criteria for flnding a ...  ...  04136c62-06a9-4c74-9da2-547448a9dc6f\n",
            "27  This paper presents an experimental evaluation...  ...  045c16e3-35e1-473d-9083-7f165526c45c\n",
            "\n",
            "[10 rows x 8 columns]\n"
          ]
        }
      ]
    },
    {
      "cell_type": "code",
      "metadata": {
        "colab": {
          "base_uri": "https://localhost:8080/"
        },
        "id": "EbACu475s1wi",
        "outputId": "893125f5-c173-4495-ed34-b6889e6065b5"
      },
      "source": [
        "for j in range(branches2):\n",
        "  print()\n",
        "  df[j]=pd.DataFrame()\n",
        "  print(\"Sub-section: \"+str(j+1))\n",
        "  for i in range(1000):\n",
        "    if fin_res[i]==j:\n",
        "      df[j]=df[j].append(dataset.iloc[[i]])\n",
        "  print(df[j].head(10))"
      ],
      "execution_count": null,
      "outputs": [
        {
          "output_type": "stream",
          "name": "stdout",
          "text": [
            "\n",
            "Sub-section: 1\n",
            "                                              abstract  ...                                    id\n",
            "50                                                      ...  099d8c2e-f02a-4a67-89a3-ab5819231baf\n",
            "104  The syntactic complexity of a regular language...  ...  11c8ce25-3fb2-48fa-9e18-76955fa34222\n",
            "146                                                     ...  1ce4e1f6-1322-42d5-a844-108578dd599d\n",
            "172  Voting is a simple mechanism to aggregate the ...  ...  21ab7cbc-12ec-4def-a407-48fbee0fcb06\n",
            "175                                                     ...  22956150-5402-43a6-86d7-13c4f6123484\n",
            "219  In a recent work we have proposed a comprehens...  ...  2af4e55e-8117-452a-b0b5-b274a1cc7980\n",
            "252  We investigate the computational properties of...  ...  31d6d54f-48e2-4361-ab15-31c916db4cfc\n",
            "253                                                     ...  31de902b-835c-4c58-9d39-c531899184e9\n",
            "255                                                     ...  32267589-2b04-4aa7-b991-6a7438fc2c50\n",
            "261  The objective of this survey is to present the...  ...  3293328c-f35a-4a9a-a359-5525e61f4549\n",
            "\n",
            "[10 rows x 8 columns]\n",
            "\n",
            "Sub-section: 2\n",
            "                                              abstract  ...                                    id\n",
            "31   We study a hypergraph transversal computation:...  ...  05440797-8533-4496-b6ea-c414a4379fea\n",
            "40   Gene tree parsimony (GTP) problems infer speci...  ...  07de0f5d-2770-4950-affa-28f03dbc3c29\n",
            "60   The construction of a program that generates c...  ...  0abff4a0-03b4-4739-b460-aa5313e7c0f1\n",
            "80                                                      ...  0e2b4274-a09e-4324-88b0-d99c3d761b38\n",
            "81                                                      ...  0e8e1246-b8c4-4ac9-9254-2a4a650c582b\n",
            "106                                                     ...  126dcb7c-4ddf-4e77-a8f6-d261f39d1e1f\n",
            "108                                                     ...  133bed87-8c09-467d-a7e4-0245c120da81\n",
            "109                                                     ...  133f67d8-c533-4752-ac8c-0a810a24b987\n",
            "116  Simulation is an interesting alternative to so...  ...  1617c7f8-cc65-49c2-a552-1d2ee292663b\n",
            "128  We suggest the use of two learning techniques ...  ...  17c547df-6149-48a1-b02a-bf0cb5197b1f\n",
            "\n",
            "[10 rows x 8 columns]\n",
            "\n",
            "Sub-section: 3\n",
            "                                              abstract  ...                                    id\n",
            "2    Recently, Bridges and Reich introduced the con...  ...  00bcf2d5-1592-46b0-81fd-933f90b5ecca\n",
            "9                                                       ...  01546472-0ac9-47fa-acca-ffcb7fc99097\n",
            "21   We discuss traveling wave solutions to the Yuk...  ...  034261a4-1e9b-463f-9549-c0b890af6a41\n",
            "24                                                      ...  03bec38d-39fb-4bc8-be7b-9622e86ff5ff\n",
            "29                                                      ...  04a259d4-1c49-4192-a1ec-c20b1fab56ec\n",
            "36                                                      ...  062b0f9f-b8bb-44aa-995d-893e47fc6187\n",
            "45   In this paper we re-examine the well known pro...  ...  08785973-8224-40f9-bf67-324cfb78238b\n",
            "141                                                     ...  1b61c7da-166a-4ac9-bda6-cc431defe3c9\n",
            "142  An exact parameterization for the boundary of ...  ...  1b90eaa1-8540-4545-a9d3-054352aaa481\n",
            "143  Black hole search (Bhs) is the problem of mapp...  ...  1c240c01-14ba-4c42-90b7-b8948c1fd323\n",
            "\n",
            "[10 rows x 8 columns]\n",
            "\n",
            "Sub-section: 4\n",
            "                                              abstract  ...                                    id\n",
            "3    Most applications of the abstract interpretati...  ...  00c85316-bddf-4bcb-93f5-097adadd73c2\n",
            "12   In system operations the term rollback is ofte...  ...  01705f09-d395-4a0f-a89f-8d18382c81cc\n",
            "20                                                      ...  02d48327-6f23-4906-b2fb-c1ff66bf6b74\n",
            "66   In this work, we study simultaneously resettab...  ...  0c1960c9-00f9-4228-aec7-508ad5496d59\n",
            "76   Simple Conceptual Graphs (SGs) are used to rep...  ...  0e0a6a83-161e-4f17-9d2e-411615a7fb83\n",
            "78                                                      ...  0e10437a-7ad2-45ff-8a1f-c73da61297cf\n",
            "96   This paper presents an evolutionary Multiobjec...  ...  1147e921-5f94-4167-9c87-60a60674f623\n",
            "97   In the domain of ontology design as well as in...  ...  11755fa7-5aa6-4a90-ad8d-931db56eb3df\n",
            "115  The aim of this paper is to develop an executa...  ...  155dec16-36d6-44f4-976b-1afb5d1924af\n",
            "126                                                     ...  1797a9c0-5d78-4643-a608-05d54cc3da0e\n",
            "\n",
            "[10 rows x 8 columns]\n",
            "\n",
            "Sub-section: 5\n",
            "                                              abstract  ...                                    id\n",
            "79                                                      ...  0e25e5c5-b837-4b36-b651-f6bd83dbd84e\n",
            "83   Accurately locating users in a wireless enviro...  ...  0eb354cc-0423-4717-985b-4066e2605c47\n",
            "98                                                      ...  11758d7c-f829-46a0-ae42-a0815201c5ba\n",
            "120                                                     ...  16f60c39-a919-4d9b-9574-4d774f2e8cee\n",
            "205  Modern process control systems are increasingl...  ...  2831c4c8-697d-499f-9e75-d339bf6cb051\n",
            "224  So-called Smart Dust is envisioned to combine ...  ...  2be57e36-5e45-46fa-b9ca-a20e7dc2e754\n",
            "241                                                     ...  2f008992-3b8b-4374-b00c-3b62c0035dff\n",
            "251  The long-rising number of electronic control u...  ...  319535a7-c832-4798-a0ed-0f7982cd2aa2\n",
            "258  Location based services are becoming an emergi...  ...  32583a95-d87c-45ca-a7f8-523efa8338fa\n",
            "271                                                     ...  348c81f8-b4cd-479c-9e5e-e9ea8a0faccd\n",
            "\n",
            "[10 rows x 8 columns]\n",
            "\n",
            "Sub-section: 6\n",
            "                                              abstract  ...                                    id\n",
            "10   Spatial encryption is a generic public-key cry...  ...  016a9a21-e882-4cda-a2b1-b2b46f10601e\n",
            "222                                                     ...  2bcb4136-875f-4178-beae-3dcc9bce60d6\n",
            "287  In CT-RSA 2011, Maji et.al proposed an attribu...  ...  38ac906a-ffa7-4729-b34f-2102d7359250\n",
            "367                                                     ...  491109e8-8028-4cf8-8ee4-ee11998b7fb0\n",
            "409                                                     ...  52d78789-3b8e-48ae-bb57-9af1d1fdbb48\n",
            "425  This paper describes a protocol, called BIO3G,...  ...  55a0650e-5b9f-455f-800d-9f7c7b6c594c\n",
            "481                                                     ...  604cd7a8-c442-4ec4-9168-86c5b3ab4165\n",
            "647  We present two variants of OMD which are robus...  ...  7eb3da89-2003-43fd-b013-f371b60e0d6c\n",
            "742                                                     ...  910209c6-6143-4558-8fb5-b26e81328f3b\n",
            "768                                                     ...  957e62b8-e97d-4c4f-96bf-b8285a2a00a6\n",
            "\n",
            "[10 rows x 8 columns]\n",
            "\n",
            "Sub-section: 7\n",
            "                                              abstract  ...                                    id\n",
            "34                                                      ...  05a244dd-3c1b-4131-99d0-3085a1c9cbf7\n",
            "62   Channel correlation has the effect to reduce t...  ...  0b81095f-be4e-433e-8355-265e214eb25a\n",
            "123  A queueing system of the M/M/1/(∞,V) type with...  ...  17664585-99f0-47bd-bf12-d8408e48a526\n",
            "162  Electrification is foremost actor in supersedi...  ...  2009175e-2ba9-4a66-97eb-b0da75122f2b\n",
            "179                                                     ...  235c3490-37a0-420c-9535-0e1c8605ea0c\n",
            "185  Optical cross-connects are expected to be the ...  ...  25131170-197c-40a9-8cb1-047118078ab0\n",
            "191  This paper presents and evaluates ORiNoCo, a n...  ...  2643b9fd-f5c8-4999-8edf-690e50f6fd3d\n",
            "267                                                     ...  33c98ab7-e2a0-4993-b1de-8c18df3544c3\n",
            "291                                                     ...  392e6c5a-9a6b-4ed7-afc6-2081db82a621\n",
            "320  In this paper we consider the design of semi-s...  ...  3f7535c2-b685-4717-a8d9-6edb9fa8fc2c\n",
            "\n",
            "[10 rows x 8 columns]\n",
            "\n",
            "Sub-section: 8\n",
            "                                              abstract  ...                                    id\n",
            "89   Nous considerons dans cet article des reseaux ...  ...  0f7b2021-2491-45de-bcb9-ad0bf498c591\n",
            "129                                                     ...  17f2ce8a-8d80-453a-9dec-b4b9f6631f99\n",
            "157                                                     ...  1ecb5a40-d213-45ee-9542-6662bcf18575\n",
            "169  The ability of hospital staff to get a patient...  ...  2111e227-205c-453d-ad32-8e52c2ed6b12\n",
            "223  Coiling is possibly the most widespread endova...  ...  2bdbf78f-cf0d-4006-a15b-2b97cadb1d35\n",
            "299  A methodology to predict underwater acoustic c...  ...  3ad26829-fa94-473a-a071-9ad04c8a6dd0\n",
            "325                                                     ...  409c34f0-1544-4d46-81fa-28b147f46a97\n",
            "381  Dans ce travail on developpe un formalisme log...  ...  4e3a7fe3-bcee-411a-9e19-eee4404113fc\n",
            "407                                                     ...  52329240-afa8-41a1-93fe-71b13ed8661b\n",
            "448  This work focuses precisely on the design of a...  ...  5ac358b2-990c-4187-853c-4af9a46bd8f0\n",
            "\n",
            "[10 rows x 8 columns]\n",
            "\n",
            "Sub-section: 9\n",
            "                                              abstract  ...                                    id\n",
            "43                                                      ...  084fb561-f6c8-4ab6-a47b-0b6d973f7f7e\n",
            "65   Conversational Agents have been shown to be ef...  ...  0be8d5ff-bf74-456f-a35c-4079545af975\n",
            "211  Memory constitutes an essential cognitive capa...  ...  295be87f-f3dd-4fa2-8cc4-873f71674326\n",
            "262                                                     ...  3319ac6a-3d9c-4757-bb8e-0a494bb2a9da\n",
            "289  It is important for development of education g...  ...  38e26d19-aafb-4943-8138-a1cadd9d866c\n",
            "290  We have developed environments that use teachi...  ...  38fe830e-12ec-419c-85d1-c2513f4dbd04\n",
            "335                                                     ...  42f20977-0757-44b8-a2af-8fd39bba6880\n",
            "421  Cognitive models of blackjack playing are pres...  ...  54db7980-3341-4136-a31b-8f03668ed1b0\n",
            "436  Abstract : Robots can be important additions t...  ...  586353e1-ae83-4c21-8053-74ffe53f0e5c\n",
            "464  We present two studies that seek to better und...  ...  5e28c2a5-1972-4595-9aa7-d394e68f5826\n",
            "\n",
            "[10 rows x 8 columns]\n",
            "\n",
            "Sub-section: 10\n",
            "                                              abstract  ...                                    id\n",
            "7    In recent years, most of mobile phones have a ...  ...  010d9907-45ef-459a-a293-8e1f41cef2b7\n",
            "18                                                      ...  02ad7019-1c4c-4a23-85ac-086e4cfcfcb2\n",
            "42   Introduction: Public health surveillance syste...  ...  07fe8b6f-a9f5-4119-bbc5-5598d89b2c1e\n",
            "67   Rough set theory has been attracting researche...  ...  0c8fea6a-df23-480b-a67e-9003767efcbc\n",
            "90   One of the goals of translational science is t...  ...  0f931025-4800-4f35-9cda-fad45de72c1e\n",
            "100                                                     ...  119b1c6e-721f-4a73-9c3a-5a4e6e8150eb\n",
            "101  Action research is used to gain understanding ...  ...  11a1414c-2890-42f5-bec5-be7b0991e115\n",
            "102  Air pollution in big cities is a major health ...  ...  11afbe96-56a3-4bb2-838c-fcf3f55e396e\n",
            "124  Psychotic disorders are the most disabling of ...  ...  1786d0e0-6235-4287-a920-f0af1d1a3572\n",
            "125  An important aim in bilateral negotiations is ...  ...  178f772c-95e3-478e-b6ab-8833e98e91d3\n",
            "\n",
            "[10 rows x 8 columns]\n",
            "\n",
            "Sub-section: 11\n",
            "                                              abstract  ...                                    id\n",
            "5                                                       ...  00e3940b-201b-40ba-bd20-dbdaf26ad324\n",
            "37                                                      ...  06ea3e80-8ff1-49ae-acc5-516171e36263\n",
            "38                                                      ...  06f630bc-11c3-4df0-b4f4-d9ff79d55ce0\n",
            "48                                                      ...  08eeae5a-bd73-452b-b4a8-bd7186ca8693\n",
            "57   We introduce data musicalization as a novel ap...  ...  0a2a7d40-85d1-40bc-95c7-96676ee94da6\n",
            "117  For the past several years YouTube has been by...  ...  16786d62-b0ce-4e48-bdac-40ceaa7fc7e5\n",
            "140                                                     ...  1b509a20-8d53-4732-b8e3-b54d028d9b92\n",
            "147  While introducing the HTML standard to present...  ...  1d0c33c2-8327-4667-b29b-9c0771f2cd4b\n",
            "149                                                     ...  1d55283f-d753-4ea6-b4e7-1a796340ed7e\n",
            "159  The “small world”-paradigm oers a new interest...  ...  1f0b65ff-2eb2-42bc-9e81-9897f345ac61\n",
            "\n",
            "[10 rows x 8 columns]\n",
            "\n",
            "Sub-section: 12\n",
            "                                             abstract  ...                                    id\n",
            "0   This paper describes the design and implementa...  ...  001c58d3-26ad-46b3-ab3a-c1e557d16821\n",
            "4   This paper focuses on knowledge engineering fo...  ...  00dd5ece-1339-4cb6-a08e-43742ae2dac6\n",
            "6   Xax is a browser plugin model that enables dev...  ...  010d4ce9-0279-4166-ae73-14551ded6404\n",
            "13  Business strategy should be well understood in...  ...  01b6f2ca-3903-4196-a932-47a4be4c00bf\n",
            "16                                                     ...  029385b7-b9fc-4c62-b0b4-f6ce31a99a9b\n",
            "22                                                     ...  038a0eb8-5350-4cf6-b86b-1effa9ad405f\n",
            "25  The paper discusses the design principles and ...  ...  03cda805-9746-48bb-a04d-02c2dac201c7\n",
            "28                                                     ...  0467f064-6a97-4a62-a371-296953f4acfe\n",
            "30                                                     ...  04dfa431-3118-4092-9238-93c2261ad157\n",
            "32                                                     ...  0564b85b-eac4-4a59-951e-3d8badc0c3e7\n",
            "\n",
            "[10 rows x 8 columns]\n",
            "\n",
            "Sub-section: 13\n",
            "                                              abstract  ...                                    id\n",
            "14                                                      ...  022a8af2-f75a-4b5e-8163-90b986cb33f7\n",
            "17                                                      ...  02a58862-0024-4e20-9993-35a8706681b3\n",
            "19                                                      ...  02b94941-769d-479c-8746-b1d8be9e6b52\n",
            "44                                                      ...  086402d3-4f8b-40fd-b1ad-19c07deb2c08\n",
            "72                                                      ...  0d781e47-7a60-4929-83f4-9d1b339544e8\n",
            "84                                                      ...  0edc42dd-e13c-454b-904c-91d1261acf56\n",
            "158                                                     ...  1ee96eb6-bd40-45f2-a02b-379c45e67c16\n",
            "186  Computer vision system is one of the newest ap...  ...  2566230a-74b1-49f4-b86f-63f45f0a5285\n",
            "282  In this paper we propose the use of immersive ...  ...  379422ce-de1b-432e-bc56-48d30b816240\n",
            "297                                                     ...  3aa659ef-346a-4895-8530-2752487afe90\n",
            "\n",
            "[10 rows x 8 columns]\n",
            "\n",
            "Sub-section: 14\n",
            "                                              abstract  ...                                    id\n",
            "8    Previous language modeling approaches to infor...  ...  012b88ae-a763-45d6-8f19-2ec9ff739d5f\n",
            "56   PiQASso is a Question Answering system based o...  ...  0a22ed40-c8b3-410c-a8f0-b1d7713430ad\n",
            "85   This study is focused on querying accomplished...  ...  0f27b0a9-4520-44e7-a589-4b9ab4248821\n",
            "136                                                     ...  19dae39f-870a-4a2c-ad26-582d87b71f79\n",
            "151  In this paper, an overview of the XMU statisti...  ...  1dc0d49c-5f4f-4068-b654-a8e0489385ca\n",
            "248                                                     ...  30bad70c-c78c-4729-b925-b7b6c2cea085\n",
            "257                                                     ...  32526d9b-7756-4fd9-a9dc-4a387e0e177a\n",
            "273  In this paper, we address the lexicon design p...  ...  3521e1a1-1a8a-4b0e-b992-fcff7d8d6211\n",
            "276  This paper explores the feasibility of constru...  ...  3664e43c-aeb0-47c3-ba0e-7f1e70bb2cfe\n",
            "280                                                     ...  377fd1cc-82c4-47e9-9ebb-3f9eaf42bbe0\n",
            "\n",
            "[10 rows x 8 columns]\n",
            "\n",
            "Sub-section: 15\n",
            "                                             abstract  ...                                    id\n",
            "1   This article applied GARCH model instead AR or...  ...  001c8744-73c4-4b04-9364-22d31a10dbf1\n",
            "15  Breast cancer is the most common form of cance...  ...  0265aea8-65f3-4f46-b8b1-6b65bcb1d38f\n",
            "23  In this paper, we investigate the multi-layer ...  ...  03990c4b-45be-4913-80d6-27d3b3381b36\n",
            "47  Unsupervised keyphrase extraction techniques g...  ...  08b6e1fd-b9da-4fe3-8c3e-7bdaedca19b3\n",
            "52  This paper presents the systems that we partic...  ...  09d09df9-c52b-42dd-8b7c-05c902697027\n",
            "53                                                     ...  09d74961-7c38-4c1d-a0ca-2c34fb6628d3\n",
            "54  Comunicacio presentada a 9th Annual Conference...  ...  0a11cd87-659d-45b8-b140-d8a8ff0974ee\n",
            "59                                                     ...  0a9a0d16-aa72-4c7e-8303-ac29cb519bd0\n",
            "69  Relevance feedback algorithm is proposed to be...  ...  0c9c8b81-7e97-4277-ac51-0a074eb94b2f\n",
            "74                                                     ...  0dd3d713-9b86-42d5-881f-af336a52b8bd\n",
            "\n",
            "[10 rows x 8 columns]\n",
            "\n",
            "Sub-section: 16\n",
            "                                              abstract  ...                                    id\n",
            "11                                                      ...  016eba4d-f912-4927-874b-b0679bea78d2\n",
            "26   We focus on covariance criteria for flnding a ...  ...  04136c62-06a9-4c74-9da2-547448a9dc6f\n",
            "27   This paper presents an experimental evaluation...  ...  045c16e3-35e1-473d-9083-7f165526c45c\n",
            "68   Four front-end processing techniques developed...  ...  0c93141c-4672-4bea-915b-46ec68853a7a\n",
            "103                                                     ...  11c5b329-ddd7-419e-bfb3-cd9e00d89f32\n",
            "144  In immune clonal selection algorithm for remot...  ...  1c675b28-d742-4a63-8ee4-e89dceb516fe\n",
            "201                                                     ...  27bfa330-2388-4c8a-91a1-e30f3567d441\n",
            "210                                                     ...  29316d7b-973b-4560-a988-5925bcde4146\n",
            "226  Triplet Markov fields (TMFs) model recently pr...  ...  2c16f3e3-85ec-46d5-977a-158034745a17\n",
            "228  In this paper we explore how to construct a Je...  ...  2c579907-67d2-4bed-8144-6d1f1c099b85\n",
            "\n",
            "[10 rows x 8 columns]\n"
          ]
        }
      ]
    },
    {
      "cell_type": "code",
      "metadata": {
        "id": "Y0QEMyr2e0W-"
      },
      "source": [
        ""
      ],
      "execution_count": null,
      "outputs": []
    }
  ]
}